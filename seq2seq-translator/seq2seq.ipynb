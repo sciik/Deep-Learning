{
 "cells": [
  {
   "cell_type": "code",
   "execution_count": 155,
   "id": "6c8bfda6",
   "metadata": {},
   "outputs": [],
   "source": [
    "import pandas as pd\n",
    "import tensorflow as tf\n",
    "import numpy as np\n",
    "import matplotlib.pyplot as plt"
   ]
  },
  {
   "cell_type": "code",
   "execution_count": 156,
   "id": "07073665",
   "metadata": {},
   "outputs": [],
   "source": [
    "file_path = \"/aiffel/aiffel/translator_seq2seq/data/\"\n",
    "data = pd.read_csv(file_path + \"fra.txt\", names=['eng', 'fra', 'cc'], sep=\"\\t\")\n",
    "\n",
    "data = data.sample(33000)"
   ]
  },
  {
   "cell_type": "code",
   "execution_count": 210,
   "id": "4954bbfb",
   "metadata": {},
   "outputs": [],
   "source": [
    "eng = data[\"eng\"]\n",
    "fra = data[\"fra\"]"
   ]
  },
  {
   "cell_type": "code",
   "execution_count": 203,
   "id": "9c776f9e",
   "metadata": {},
   "outputs": [
    {
     "name": "stdout",
     "output_type": "stream",
     "text": [
      "['<sos> Pour me a glass of wine . <eos>']\n"
     ]
    }
   ],
   "source": [
    "english = []\n",
    "french = []\n",
    "\n",
    "def preprocessing(sentences):\n",
    "    s = []\n",
    "    for sentence in sentences:\n",
    "        temp = sentence.replace(\",\", \" ,\")\n",
    "        temp = temp.replace(\".\", \" .\")\n",
    "        temp = temp.replace(\"?\", \" ?\")\n",
    "        temp = temp.replace(\"!\", \" !\")\n",
    "        temp.lower()\n",
    "        temp = \"<sos> \" + temp + \" <eos>\"\n",
    "    s.append(temp)\n",
    "    return s\n",
    "\n",
    "english = preprocessing(eng)\n",
    "french = preprocessing(fra)"
   ]
  },
  {
   "cell_type": "code",
   "execution_count": 160,
   "id": "07874043",
   "metadata": {},
   "outputs": [],
   "source": [
    "eng_tokenizer = tf.keras.preprocessing.text.Tokenizer(filters=\" \")\n",
    "fre_tokenizer = tf.keras.preprocessing.text.Tokenizer(filters=\" \")\n",
    "\n",
    "eng_tokenizer.fit_on_texts(english)\n",
    "fre_tokenizer.fit_on_texts(french)\n",
    "\n",
    "encoder_input = eng_tokenizer.texts_to_sequences(english)\n",
    "\n",
    "french_tokens = fre_tokenizer.texts_to_sequences(french)\n",
    "decoder_input = [[s for s in sentence if s != fre_tokenizer.word_index[\"<eos>\"]] for sentence in french_tokens]\n",
    "decoder_output = [[s for s in sentence if s != fre_tokenizer.word_index[\"<sos>\"]] for sentence in french_tokens]"
   ]
  },
  {
   "cell_type": "code",
   "execution_count": 161,
   "id": "a82abece",
   "metadata": {},
   "outputs": [],
   "source": [
    "encoder_input = tf.keras.preprocessing.sequence.pad_sequences(encoder_input, padding=\"post\")\n",
    "decoder_input = tf.keras.preprocessing.sequence.pad_sequences(decoder_input, padding=\"post\")\n",
    "decoder_output = tf.keras.preprocessing.sequence.pad_sequences(decoder_output, padding=\"post\")"
   ]
  },
  {
   "cell_type": "code",
   "execution_count": 162,
   "id": "ef3e77f4",
   "metadata": {},
   "outputs": [],
   "source": [
    "train_size = 30000\n",
    "\n",
    "train_encoder_input = encoder_input[:train_size]\n",
    "train_decoder_input = decoder_input[:train_size]\n",
    "train_decoder_output = decoder_output[:train_size]\n",
    "\n",
    "test_encoder_input = encoder_input[train_size:]\n",
    "test_decoder_input = decoder_input[train_size:]\n",
    "test_decoder_output = decoder_output[train_size:]"
   ]
  },
  {
   "cell_type": "code",
   "execution_count": 163,
   "id": "9bcd96b0",
   "metadata": {},
   "outputs": [],
   "source": [
    "encoder_word_size = len(eng_tokenizer.word_index)+1\n",
    "encoder_maxlen = train_encoder_input.shape[1]\n",
    "decoder_word_size = len(fre_tokenizer.word_index)+1\n",
    "decoder_maxlen = train_decoder_input.shape[1]\n",
    "word_dim = 512"
   ]
  },
  {
   "cell_type": "code",
   "execution_count": 169,
   "id": "6f96e527",
   "metadata": {
    "scrolled": false
   },
   "outputs": [
    {
     "name": "stdout",
     "output_type": "stream",
     "text": [
      "Epoch 1/20\n",
      "118/118 [==============================] - 43s 347ms/step - loss: 1.2221 - val_loss: 0.8721\n",
      "Epoch 2/20\n",
      "118/118 [==============================] - 40s 335ms/step - loss: 0.8171 - val_loss: 0.7806\n",
      "Epoch 3/20\n",
      "118/118 [==============================] - 40s 339ms/step - loss: 0.7423 - val_loss: 0.7303\n",
      "Epoch 4/20\n",
      "118/118 [==============================] - 40s 338ms/step - loss: 0.6844 - val_loss: 0.6863\n",
      "Epoch 5/20\n",
      "118/118 [==============================] - 40s 339ms/step - loss: 0.6304 - val_loss: 0.6421\n",
      "Epoch 6/20\n",
      "118/118 [==============================] - 40s 340ms/step - loss: 0.5868 - val_loss: 0.6187\n",
      "Epoch 7/20\n",
      "118/118 [==============================] - 40s 341ms/step - loss: 0.5525 - val_loss: 0.6026\n",
      "Epoch 8/20\n",
      "118/118 [==============================] - 40s 340ms/step - loss: 0.5223 - val_loss: 0.5855\n",
      "Epoch 9/20\n",
      "118/118 [==============================] - 40s 340ms/step - loss: 0.4947 - val_loss: 0.5755\n",
      "Epoch 10/20\n",
      "118/118 [==============================] - 40s 340ms/step - loss: 0.4693 - val_loss: 0.5649\n",
      "Epoch 11/20\n",
      "118/118 [==============================] - 40s 341ms/step - loss: 0.4453 - val_loss: 0.5517\n",
      "Epoch 12/20\n",
      "118/118 [==============================] - 40s 340ms/step - loss: 0.4222 - val_loss: 0.5516\n",
      "Epoch 13/20\n",
      "118/118 [==============================] - 40s 341ms/step - loss: 0.4007 - val_loss: 0.5431\n",
      "Epoch 14/20\n",
      "118/118 [==============================] - 40s 341ms/step - loss: 0.3800 - val_loss: 0.5415\n",
      "Epoch 15/20\n",
      "118/118 [==============================] - 40s 339ms/step - loss: 0.3598 - val_loss: 0.5320\n",
      "Epoch 16/20\n",
      "118/118 [==============================] - 40s 339ms/step - loss: 0.3411 - val_loss: 0.5315\n",
      "Epoch 17/20\n",
      "118/118 [==============================] - 40s 339ms/step - loss: 0.3218 - val_loss: 0.5258\n",
      "Epoch 18/20\n",
      "118/118 [==============================] - 40s 340ms/step - loss: 0.3036 - val_loss: 0.5243\n",
      "Epoch 19/20\n",
      "118/118 [==============================] - 40s 340ms/step - loss: 0.2855 - val_loss: 0.5239\n",
      "Epoch 20/20\n",
      "118/118 [==============================] - 40s 340ms/step - loss: 0.2679 - val_loss: 0.5241\n"
     ]
    },
    {
     "data": {
      "image/png": "[encoded data removed]",
      "text/plain": [
       "<Figure size 432x288 with 1 Axes>"
      ]
     },
     "metadata": {
      "needs_background": "light"
     },
     "output_type": "display_data"
    }
   ],
   "source": [
    "encoder_inputs = tf.keras.layers.Input(shape=(None, ))\n",
    "encoder_embedding = tf.keras.layers.Embedding(encoder_word_size, word_dim)(encoder_inputs)\n",
    "_, state_h, state_c = tf.keras.layers.LSTM(512, return_state=True)(encoder_embedding)\n",
    "encoder_state = [state_h, state_c]\n",
    "\n",
    "decoder_inputs = tf.keras.layers.Input(shape=(None, ))\n",
    "decoder_embedding = tf.keras.layers.Embedding(decoder_word_size, word_dim)(decoder_inputs)\n",
    "decoder_lstm = tf.keras.layers.LSTM(512, return_sequences=True, return_state=True)\n",
    "decoder_outputs, _, _ = decoder_lstm(decoder_embedding, initial_state=encoder_state)\n",
    "decoder_softmax = tf.keras.layers.Dense(decoder_word_size, activation=\"softmax\")\n",
    "decoder_outputs = decoder_softmax(decoder_outputs)\n",
    "\n",
    "model = tf.keras.Model(inputs=[encoder_inputs, decoder_inputs], outputs=decoder_outputs)\n",
    "\n",
    "model.compile(optimizer=\"rmsprop\", loss=\"sparse_categorical_crossentropy\")\n",
    "\n",
    "history = model.fit(x=[train_encoder_input, train_decoder_input], \n",
    "                    y=train_decoder_output, \n",
    "                    validation_data=([test_encoder_input, test_decoder_input], test_decoder_output),\n",
    "                    batch_size=256,\n",
    "                    epochs=20)\n",
    "\n",
    "loss = history.history[\"loss\"]\n",
    "valid_loss = history.history[\"val_loss\"]\n",
    "\n",
    "plt.plot(loss, label=\"train\")\n",
    "plt.plot(valid_loss, label=\"valid\")\n",
    "plt.title(\"loss\")\n",
    "plt.legend()\n",
    "plt.show()\n"
   ]
  },
  {
   "cell_type": "code",
   "execution_count": 173,
   "id": "62c6411c",
   "metadata": {
    "scrolled": false
   },
   "outputs": [],
   "source": [
    "encoder_model = tf.keras.Model(inputs = encoder_inputs, outputs = encoder_state)"
   ]
  },
  {
   "cell_type": "code",
   "execution_count": 174,
   "id": "725fbea0",
   "metadata": {
    "scrolled": false
   },
   "outputs": [],
   "source": [
    "decoder_state_input_h = tf.keras.Input(shape=(512,))\n",
    "decoder_state_input_c = tf.keras.Input(shape=(512,))\n",
    "decoder_states_inputs = [decoder_state_input_h, decoder_state_input_c]\n",
    "\n",
    "decoder_outputs, state_h, state_c = decoder_lstm(decoder_embedding, initial_state = decoder_states_inputs)\n",
    "decoder_states = [state_h, state_c]\n",
    "decoder_outputs = decoder_softmax(decoder_outputs)\n",
    "\n",
    "decoder_model = tf.keras.Model(inputs=[decoder_inputs] + decoder_states_inputs, outputs=[decoder_outputs] + decoder_states)"
   ]
  },
  {
   "cell_type": "code",
   "execution_count": 204,
   "id": "42c0aad7",
   "metadata": {},
   "outputs": [],
   "source": [
    "def decode_sequence(input_sentence):\n",
    "    input_sentence = preprocessing([input_sentence])\n",
    "    input_sentence = eng_tokenizer.texts_to_sequences(input_sentence)\n",
    "    input_sentence = tf.keras.preprocessing.sequence.pad_sequences(input_sentence, padding=\"post\", maxlen = encoder_maxlen)\n",
    "    states_value = encoder_model.predict(input_sentence)\n",
    "    \n",
    "    target_seq = np.zeros((1,1)) \n",
    "    target_seq[0, 0] = eng_tokenizer.word_index[\"<sos>\"]\n",
    "    \n",
    "    flag = True\n",
    "    decoded_sentence = \"\"\n",
    "    while flag:\n",
    "        output_tokens, h, c = decoder_model.predict([target_seq] + states_value)\n",
    "\n",
    "        sampled_token_index = np.argmax(output_tokens[0, -1, :])\n",
    "        sampled_token = fre_tokenizer.index_word[sampled_token_index]\n",
    "\n",
    "        decoded_sentence += ' ' + sampled_token\n",
    "\n",
    "        if sampled_token == \"<eos>\":\n",
    "            flag = False\n",
    "  \n",
    "        target_seq = np.zeros((1, 1))\n",
    "        target_seq[0, 0] = sampled_token_index\n",
    "\n",
    "        states_value = [h, c]\n",
    "\n",
    "    return decoded_sentence[:-6]"
   ]
  },
  {
   "cell_type": "code",
   "execution_count": 209,
   "id": "2a45e916",
   "metadata": {
    "scrolled": false
   },
   "outputs": [
    {
     "name": "stdout",
     "output_type": "stream",
     "text": [
      " à toi .\n",
      " je vous aime .\n",
      " je suis contente que vous soyez là .\n",
      " vous êtes fort .\n",
      " ils ont dit que c'était urgent . ### train dataset ###\n",
      " désolée , je ne t'ai pas entendu . ### train dataset ###\n"
     ]
    }
   ],
   "source": [
    "print(decode_sequence(\"i love you\"))\n",
    "print(decode_sequence(\"i will find you\"))\n",
    "print(decode_sequence(\"i'm so glad to meet you\"))\n",
    "print(decode_sequence(\"you are right\"))\n",
    "print(decode_sequence(\"they stopped doing that\"), \"### train dataset ###\")\n",
    "print(decode_sequence(\"Sorry, I didn't mean to scare you\"), \"### train dataset ###\")"
   ]
  },
  {
   "cell_type": "code",
   "execution_count": null,
   "id": "f310a51a",
   "metadata": {},
   "outputs": [],
   "source": []
  }
 ],
 "metadata": {
  "kernelspec": {
   "display_name": "Python 3 (ipykernel)",
   "language": "python",
   "name": "python3"
  },
  "language_info": {
   "codemirror_mode": {
    "name": "ipython",
    "version": 3
   },
   "file_extension": ".py",
   "mimetype": "text/x-python",
   "name": "python",
   "nbconvert_exporter": "python",
   "pygments_lexer": "ipython3",
   "version": "3.9.7"
  }
 },
 "nbformat": 4,
 "nbformat_minor": 5
}

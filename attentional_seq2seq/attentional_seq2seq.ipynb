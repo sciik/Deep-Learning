{
 "cells": [
  {
   "cell_type": "code",
   "execution_count": 62,
   "id": "fefa76be",
   "metadata": {},
   "outputs": [],
   "source": [
    "from importlib.metadata import version\n",
    "from bs4 import BeautifulSoup \n",
    "from nltk.corpus import stopwords\n",
    "import summa\n",
    "import nltk\n",
    "import re\n",
    "import urllib.request\n",
    "import tensorflow as tf\n",
    "import numpy as np\n",
    "import matplotlib.pyplot as plt\n",
    "import pandas as pd"
   ]
  },
  {
   "cell_type": "code",
   "execution_count": 2,
   "id": "dd22bd2b",
   "metadata": {},
   "outputs": [],
   "source": [
    "urllib.request.urlretrieve(\"https://raw.githubusercontent.com/sunnysai12345/News_Summary/master/news_summary_more.csv\", filename=\"news_summary_more.csv\")\n",
    "data = pd.read_csv('news_summary_more.csv', encoding='iso-8859-1')"
   ]
  },
  {
   "cell_type": "code",
   "execution_count": 3,
   "id": "c4f75e58",
   "metadata": {},
   "outputs": [
    {
     "name": "stdout",
     "output_type": "stream",
     "text": [
      "headlines    0\n",
      "text         0\n",
      "dtype: int64\n"
     ]
    },
    {
     "data": {
      "text/html": [
       "<div>\n",
       "<style scoped>\n",
       "    .dataframe tbody tr th:only-of-type {\n",
       "        vertical-align: middle;\n",
       "    }\n",
       "\n",
       "    .dataframe tbody tr th {\n",
       "        vertical-align: top;\n",
       "    }\n",
       "\n",
       "    .dataframe thead th {\n",
       "        text-align: right;\n",
       "    }\n",
       "</style>\n",
       "<table border=\"1\" class=\"dataframe\">\n",
       "  <thead>\n",
       "    <tr style=\"text-align: right;\">\n",
       "      <th></th>\n",
       "      <th>headlines</th>\n",
       "      <th>text</th>\n",
       "    </tr>\n",
       "  </thead>\n",
       "  <tbody>\n",
       "    <tr>\n",
       "      <th>0</th>\n",
       "      <td>upGrad learner switches to career in ML &amp; Al w...</td>\n",
       "      <td>Saurav Kant, an alumnus of upGrad and IIIT-B's...</td>\n",
       "    </tr>\n",
       "    <tr>\n",
       "      <th>1</th>\n",
       "      <td>Delhi techie wins free food from Swiggy for on...</td>\n",
       "      <td>Kunal Shah's credit card bill payment platform...</td>\n",
       "    </tr>\n",
       "    <tr>\n",
       "      <th>2</th>\n",
       "      <td>New Zealand end Rohit Sharma-led India's 12-ma...</td>\n",
       "      <td>New Zealand defeated India by 8 wickets in the...</td>\n",
       "    </tr>\n",
       "    <tr>\n",
       "      <th>3</th>\n",
       "      <td>Aegon life iTerm insurance plan helps customer...</td>\n",
       "      <td>With Aegon Life iTerm Insurance plan, customer...</td>\n",
       "    </tr>\n",
       "    <tr>\n",
       "      <th>4</th>\n",
       "      <td>Have known Hirani for yrs, what if MeToo claim...</td>\n",
       "      <td>Speaking about the sexual harassment allegatio...</td>\n",
       "    </tr>\n",
       "  </tbody>\n",
       "</table>\n",
       "</div>"
      ],
      "text/plain": [
       "                                           headlines  \\\n",
       "0  upGrad learner switches to career in ML & Al w...   \n",
       "1  Delhi techie wins free food from Swiggy for on...   \n",
       "2  New Zealand end Rohit Sharma-led India's 12-ma...   \n",
       "3  Aegon life iTerm insurance plan helps customer...   \n",
       "4  Have known Hirani for yrs, what if MeToo claim...   \n",
       "\n",
       "                                                text  \n",
       "0  Saurav Kant, an alumnus of upGrad and IIIT-B's...  \n",
       "1  Kunal Shah's credit card bill payment platform...  \n",
       "2  New Zealand defeated India by 8 wickets in the...  \n",
       "3  With Aegon Life iTerm Insurance plan, customer...  \n",
       "4  Speaking about the sexual harassment allegatio...  "
      ]
     },
     "execution_count": 3,
     "metadata": {},
     "output_type": "execute_result"
    }
   ],
   "source": [
    "print(data.isnull().sum())\n",
    "data.head()"
   ]
  },
  {
   "cell_type": "code",
   "execution_count": 4,
   "id": "24cc65f6",
   "metadata": {},
   "outputs": [],
   "source": [
    "data = data.sample(98000)"
   ]
  },
  {
   "cell_type": "code",
   "execution_count": 5,
   "id": "fde96ea3",
   "metadata": {},
   "outputs": [
    {
     "name": "stderr",
     "output_type": "stream",
     "text": [
      "[nltk_data] Downloading package stopwords to /aiffel/nltk_data...\n",
      "[nltk_data]   Package stopwords is already up-to-date!\n"
     ]
    },
    {
     "data": {
      "text/plain": [
       "True"
      ]
     },
     "execution_count": 5,
     "metadata": {},
     "output_type": "execute_result"
    }
   ],
   "source": [
    "contractions = {\"ain't\": \"is not\", \"aren't\": \"are not\",\"can't\": \"cannot\", \"'cause\": \"because\", \"could've\": \"could have\", \"couldn't\": \"could not\",\n",
    "                           \"didn't\": \"did not\",  \"doesn't\": \"does not\", \"don't\": \"do not\", \"hadn't\": \"had not\", \"hasn't\": \"has not\", \"haven't\": \"have not\",\n",
    "                           \"he'd\": \"he would\",\"he'll\": \"he will\", \"he's\": \"he is\", \"how'd\": \"how did\", \"how'd'y\": \"how do you\", \"how'll\": \"how will\", \"how's\": \"how is\",\n",
    "                           \"I'd\": \"I would\", \"I'd've\": \"I would have\", \"I'll\": \"I will\", \"I'll've\": \"I will have\",\"I'm\": \"I am\", \"I've\": \"I have\", \"i'd\": \"i would\",\n",
    "                           \"i'd've\": \"i would have\", \"i'll\": \"i will\",  \"i'll've\": \"i will have\",\"i'm\": \"i am\", \"i've\": \"i have\", \"isn't\": \"is not\", \"it'd\": \"it would\",\n",
    "                           \"it'd've\": \"it would have\", \"it'll\": \"it will\", \"it'll've\": \"it will have\",\"it's\": \"it is\", \"let's\": \"let us\", \"ma'am\": \"madam\",\n",
    "                           \"mayn't\": \"may not\", \"might've\": \"might have\",\"mightn't\": \"might not\",\"mightn't've\": \"might not have\", \"must've\": \"must have\",\n",
    "                           \"mustn't\": \"must not\", \"mustn't've\": \"must not have\", \"needn't\": \"need not\", \"needn't've\": \"need not have\",\"o'clock\": \"of the clock\",\n",
    "                           \"oughtn't\": \"ought not\", \"oughtn't've\": \"ought not have\", \"shan't\": \"shall not\", \"sha'n't\": \"shall not\", \"shan't've\": \"shall not have\",\n",
    "                           \"she'd\": \"she would\", \"she'd've\": \"she would have\", \"she'll\": \"she will\", \"she'll've\": \"she will have\", \"she's\": \"she is\",\n",
    "                           \"should've\": \"should have\", \"shouldn't\": \"should not\", \"shouldn't've\": \"should not have\", \"so've\": \"so have\",\"so's\": \"so as\",\n",
    "                           \"this's\": \"this is\",\"that'd\": \"that would\", \"that'd've\": \"that would have\", \"that's\": \"that is\", \"there'd\": \"there would\",\n",
    "                           \"there'd've\": \"there would have\", \"there's\": \"there is\", \"here's\": \"here is\",\"they'd\": \"they would\", \"they'd've\": \"they would have\",\n",
    "                           \"they'll\": \"they will\", \"they'll've\": \"they will have\", \"they're\": \"they are\", \"they've\": \"they have\", \"to've\": \"to have\",\n",
    "                           \"wasn't\": \"was not\", \"we'd\": \"we would\", \"we'd've\": \"we would have\", \"we'll\": \"we will\", \"we'll've\": \"we will have\", \"we're\": \"we are\",\n",
    "                           \"we've\": \"we have\", \"weren't\": \"were not\", \"what'll\": \"what will\", \"what'll've\": \"what will have\", \"what're\": \"what are\",\n",
    "                           \"what's\": \"what is\", \"what've\": \"what have\", \"when's\": \"when is\", \"when've\": \"when have\", \"where'd\": \"where did\", \"where's\": \"where is\",\n",
    "                           \"where've\": \"where have\", \"who'll\": \"who will\", \"who'll've\": \"who will have\", \"who's\": \"who is\", \"who've\": \"who have\",\n",
    "                           \"why's\": \"why is\", \"why've\": \"why have\", \"will've\": \"will have\", \"won't\": \"will not\", \"won't've\": \"will not have\",\n",
    "                           \"would've\": \"would have\", \"wouldn't\": \"would not\", \"wouldn't've\": \"would not have\", \"y'all\": \"you all\",\n",
    "                           \"y'all'd\": \"you all would\",\"y'all'd've\": \"you all would have\",\"y'all're\": \"you all are\",\"y'all've\": \"you all have\",\n",
    "                           \"you'd\": \"you would\", \"you'd've\": \"you would have\", \"you'll\": \"you will\", \"you'll've\": \"you will have\",\n",
    "                           \"you're\": \"you are\", \"you've\": \"you have\"}\n",
    "\n",
    "nltk.download(\"stopwords\")"
   ]
  },
  {
   "cell_type": "code",
   "execution_count": 6,
   "id": "92f285e8",
   "metadata": {},
   "outputs": [],
   "source": [
    "def preprocess_sentence(sentence, remove_stopwords=True):\n",
    "    sentence = sentence.lower()\n",
    "    sentence = BeautifulSoup(sentence, \"lxml\").text \n",
    "    sentence = re.sub(r'\\([^)]*\\)', '', sentence)\n",
    "    sentence = re.sub('\"','', sentence)\n",
    "    sentence = re.sub(r\"'s\\b\",\"\", sentence)\n",
    "    sentence = re.sub(\"[^a-zA-Z]\", \" \", sentence)\n",
    "    sentence = re.sub('[m]{2,}', 'mm', sentence)\n",
    "    \n",
    "    if remove_stopwords:\n",
    "        tokens = ' '.join(word for word in sentence.split() if not word in stopwords.words('english') if len(word) > 1)\n",
    "    else:\n",
    "        tokens = ' '.join(word for word in sentence.split() if len(word) > 1)\n",
    "        \n",
    "    tokens = [contractions[s] if s in contractions else s for s in tokens.split()]\n",
    "    return tokens"
   ]
  },
  {
   "cell_type": "code",
   "execution_count": 7,
   "id": "418e4c41",
   "metadata": {
    "scrolled": false
   },
   "outputs": [],
   "source": [
    "preprocessed_headlines = [preprocess_sentence(s, remove_stopwords=False) for s in data[\"headlines\"]]\n",
    "preprocessed_text = [preprocess_sentence(s) for s in data[\"text\"]]"
   ]
  },
  {
   "cell_type": "code",
   "execution_count": 8,
   "id": "a0067493",
   "metadata": {},
   "outputs": [
    {
     "name": "stdout",
     "output_type": "stream",
     "text": [
      "98000 98000\n",
      "[['sudhir', 'mishra', 'plans', 'sequel', 'to', 'hazaaron', 'khwaishein', 'aisi'], ['yr', 'old', 'gets', 'new', 'zealand', 'to', 'make', 'gender', 'neutral', 'road', 'signs'], ['pak', 'captain', 'sarfaraz', 'banned', 'for', 'matches', 'over', 'abey', 'kaale', 'remark'], ['lais', 'ribeiro', 'to', 'wear', 'cr', 'fantasy', 'bra', 'at', 'vs', 'fashion', 'show'], ['plastic', 'coins', 'recovered', 'in', 'dera', 'hq', 'search', 'operation']]\n",
      "[['filmmaker', 'sudhir', 'mishra', 'planning', 'make', 'sequel', 'directorial', 'hazaaron', 'khwaishein', 'aisi', 'released', 'original', 'film', 'starred', 'kay', 'kay', 'menon', 'chitrangda', 'singh', 'shiney', 'ahuja', 'lead', 'roles', 'like', 'make', 'film', 'actors', 'take', 'call', 'later', 'said', 'sudhir'], ['new', 'zealand', 'transport', 'agency', 'agreed', 'update', 'linemen', 'signs', 'line', 'crew', 'receiving', 'letter', 'seven', 'year', 'old', 'pointed', 'women', 'line', 'workers', 'think', 'sign', 'wrong', 'unfair', 'agree', 'zoe', 'carew', 'wrote', 'letter', 'nzta', 'transport', 'agency', 'commended', 'carew', 'suggestion'], ['pakistan', 'captain', 'sarfaraz', 'ahmed', 'banned', 'four', 'matches', 'breaching', 'icc', 'anti', 'racism', 'code', 'sarfaraz', 'called', 'south', 'africa', 'rounder', 'andile', 'phehlukwayo', 'abey', 'kaale', 'second', 'odi', 'teams', 'durban', 'tuesday', 'sarfaraz', 'miss', 'remaining', 'two', 'matches', 'ongoing', 'odi', 'series', 'first', 'two', 'matches', 'upcoming', 'series'], ['lingerie', 'brand', 'victoria', 'secret', 'announced', 'model', 'lais', 'ribeiro', 'wearing', 'fantasy', 'bra', 'worth', 'crore', 'fashion', 'show', 'year', 'champagne', 'nights', 'fantasy', 'bra', 'made', 'almost', 'gemstones', 'including', 'diamonds', 'yellow', 'sapphires', 'blue', 'topaz', 'designed', 'luxury', 'goods', 'company', 'mouawad', 'bra', 'weighs', 'carats'], ['plastic', 'coins', 'tokens', 'denominations', 'recovered', 'dera', 'sacha', 'sauda', 'headquarters', 'sirsa', 'search', 'operation', 'carried', 'friday', 'shops', 'premises', 'sach', 'prefixed', 'names', 'coins', 'could', 'used', 'purchase', 'notably', 'commandos', 'sniffer', 'dogs', 'paramilitary', 'soldiers', 'deployed', 'search', 'premises']]\n",
      "<generator object <genexpr> at 0x7f332356b900>\n",
      "<generator object <genexpr> at 0x7f332356b900>\n"
     ]
    }
   ],
   "source": [
    "print(len(preprocessed_headlines), len(preprocessed_text))\n",
    "print(preprocessed_headlines[:5])\n",
    "print(preprocessed_text[:5])\n",
    "print(\"null\" for i in preprocessed_headlines if len(i) == 0)\n",
    "print(\"null\" for i in preprocessed_text if len(i) == 0)"
   ]
  },
  {
   "cell_type": "code",
   "execution_count": 9,
   "id": "dd01f647",
   "metadata": {},
   "outputs": [
    {
     "data": {
      "image/png": "[encoded data removed]",
      "text/plain": [
       "<Figure size 432x288 with 1 Axes>"
      ]
     },
     "metadata": {
      "needs_background": "light"
     },
     "output_type": "display_data"
    },
    {
     "data": {
      "image/png": "[encoded data removed]",
      "text/plain": [
       "<Figure size 432x288 with 1 Axes>"
      ]
     },
     "metadata": {
      "needs_background": "light"
     },
     "output_type": "display_data"
    },
    {
     "name": "stdout",
     "output_type": "stream",
     "text": [
      "텍스트의 최소 길이 : 1\n",
      "텍스트의 최대 길이 : 60\n",
      "텍스트의 평균 길이 : 35.078948979591836\n",
      "요약의 최소 길이 : 1\n",
      "요약의 최대 길이 : 16\n",
      "요약의 평균 길이 : 9.263989795918368\n"
     ]
    }
   ],
   "source": [
    "headlines_len = [len(s) for s in preprocessed_headlines]\n",
    "text_len = [len(s) for s in preprocessed_text]\n",
    "\n",
    "plt.title('headlines')\n",
    "plt.hist(headlines_len, bins = 40)\n",
    "plt.xlabel('length of samples')\n",
    "plt.ylabel('number of samples')\n",
    "plt.show()\n",
    "\n",
    "plt.title('text')\n",
    "plt.hist(text_len, bins = 40)\n",
    "plt.xlabel('length of samples')\n",
    "plt.ylabel('number of samples')\n",
    "plt.show()\n",
    "\n",
    "print('텍스트의 최소 길이 : {}'.format(np.min(text_len)))\n",
    "print('텍스트의 최대 길이 : {}'.format(np.max(text_len)))\n",
    "print('텍스트의 평균 길이 : {}'.format(np.mean(text_len)))\n",
    "print('요약의 최소 길이 : {}'.format(np.min(headlines_len)))\n",
    "print('요약의 최대 길이 : {}'.format(np.max(headlines_len)))\n",
    "print('요약의 평균 길이 : {}'.format(np.mean(headlines_len)))"
   ]
  },
  {
   "cell_type": "code",
   "execution_count": 10,
   "id": "fcfa8bb2",
   "metadata": {},
   "outputs": [
    {
     "name": "stdout",
     "output_type": "stream",
     "text": [
      "42837\n",
      "62673\n",
      "91078\n"
     ]
    }
   ],
   "source": [
    "data = pd.DataFrame(list(zip(preprocessed_headlines, preprocessed_text)), columns=[\"headlines\", \"text\"])\n",
    "\n",
    "for i in range(len(data)):\n",
    "    if len(data.iloc[i][\"headlines\"]) < 4 or len(data.iloc[i][\"text\"]) < 4:\n",
    "        print(i)"
   ]
  },
  {
   "cell_type": "code",
   "execution_count": 11,
   "id": "1b4df522",
   "metadata": {},
   "outputs": [],
   "source": [
    "decoder_input = [[\"<sos>\"]+s for s in preprocessed_headlines]\n",
    "decoder_output = [s+[\"<eos>\"] for s in preprocessed_headlines]"
   ]
  },
  {
   "cell_type": "code",
   "execution_count": 12,
   "id": "6f30f909",
   "metadata": {},
   "outputs": [],
   "source": [
    "headlines_maxlen = 17\n",
    "text_maxlen = 60"
   ]
  },
  {
   "cell_type": "code",
   "execution_count": 13,
   "id": "20e775d7",
   "metadata": {},
   "outputs": [],
   "source": [
    "eng_tokenizer = tf.keras.preprocessing.text.Tokenizer()\n",
    "eng_tokenizer.fit_on_texts(preprocessed_text+decoder_input+decoder_output)"
   ]
  },
  {
   "cell_type": "code",
   "execution_count": 14,
   "id": "e7aa00e1",
   "metadata": {},
   "outputs": [
    {
     "name": "stdout",
     "output_type": "stream",
     "text": [
      "단어 집합(vocabulary)의 크기 : 77171\n",
      "등장 빈도가 6번 이하인 희귀 단어의 수: 48798\n",
      "단어 집합에서 희귀 단어를 제외시킬 경우의 단어 집합의 크기 28373\n",
      "단어 집합에서 희귀 단어의 비율: 63.2335981132809\n",
      "전체 등장 빈도에서 희귀 단어 등장 빈도 비율: 1.908898079981591\n"
     ]
    }
   ],
   "source": [
    "threshold = 7\n",
    "total_cnt = len(eng_tokenizer.word_index)\n",
    "rare_cnt = 0 \n",
    "total_freq = 0 \n",
    "rare_freq = 0\n",
    "\n",
    "for key, value in eng_tokenizer.word_counts.items():\n",
    "    total_freq = total_freq + value\n",
    "\n",
    "    if(value < threshold):\n",
    "        rare_cnt = rare_cnt + 1\n",
    "        rare_freq = rare_freq + value\n",
    "\n",
    "print('단어 집합(vocabulary)의 크기 :', total_cnt)\n",
    "print('등장 빈도가 %s번 이하인 희귀 단어의 수: %s'%(threshold - 1, rare_cnt))\n",
    "print('단어 집합에서 희귀 단어를 제외시킬 경우의 단어 집합의 크기 %s'%(total_cnt - rare_cnt))\n",
    "print(\"단어 집합에서 희귀 단어의 비율:\", (rare_cnt / total_cnt)*100)\n",
    "print(\"전체 등장 빈도에서 희귀 단어 등장 빈도 비율:\", (rare_freq / total_freq)*100)"
   ]
  },
  {
   "cell_type": "code",
   "execution_count": 15,
   "id": "0409a919",
   "metadata": {},
   "outputs": [],
   "source": [
    "eng_tokenizer = tf.keras.preprocessing.text.Tokenizer(num_words=27000)\n",
    "eng_tokenizer.fit_on_texts(preprocessed_text+decoder_input+decoder_output)\n",
    "\n",
    "encoder_input = eng_tokenizer.texts_to_sequences(preprocessed_text)\n",
    "decoder_input = eng_tokenizer.texts_to_sequences(decoder_input)\n",
    "decoder_output = eng_tokenizer.texts_to_sequences(decoder_output)"
   ]
  },
  {
   "cell_type": "code",
   "execution_count": 16,
   "id": "2850a138",
   "metadata": {},
   "outputs": [],
   "source": [
    "encoder_input = tf.keras.preprocessing.sequence.pad_sequences(encoder_input, maxlen=text_maxlen, padding=\"post\")\n",
    "decoder_input = tf.keras.preprocessing.sequence.pad_sequences(decoder_input, maxlen=headlines_maxlen, padding=\"post\")\n",
    "decoder_output = tf.keras.preprocessing.sequence.pad_sequences(decoder_output, maxlen=headlines_maxlen, padding=\"post\")"
   ]
  },
  {
   "cell_type": "code",
   "execution_count": 17,
   "id": "1ed3b40b",
   "metadata": {},
   "outputs": [],
   "source": [
    "size_of_data = len(encoder_input)\n",
    "train_size = int(size_of_data*0.8)\n",
    "\n",
    "encoder_train_input = encoder_input[:train_size]\n",
    "encoder_test_input = encoder_input[train_size:]\n",
    "\n",
    "decoder_train_input = decoder_input[:train_size]\n",
    "decoder_test_input = decoder_input[train_size:]\n",
    "\n",
    "decoder_train_output = decoder_output[:train_size]\n",
    "decoder_test_output = decoder_output[train_size:]"
   ]
  },
  {
   "cell_type": "code",
   "execution_count": 18,
   "id": "5d58f5e6",
   "metadata": {},
   "outputs": [],
   "source": [
    "word_dim = 256\n",
    "hidden_size = 512"
   ]
  },
  {
   "cell_type": "code",
   "execution_count": 19,
   "id": "6fff9e94",
   "metadata": {},
   "outputs": [],
   "source": [
    "encoder_inputs = tf.keras.layers.Input(shape=(text_maxlen,))\n",
    "encoder_embedding = tf.keras.layers.Embedding(27000, word_dim)(encoder_inputs)\n",
    "encoder_lstm1 = tf.keras.layers.LSTM(hidden_size, return_sequences=True, return_state=True ,dropout = 0.4)\n",
    "encoder_output1, _, _ = encoder_lstm1(encoder_embedding)\n",
    "encoder_lstm2 = tf.keras.layers.LSTM(hidden_size, return_sequences=True, return_state=True, dropout=0.4)\n",
    "encoder_output2, _, _ = encoder_lstm2(encoder_output1)\n",
    "encoder_lstm3 = tf.keras.layers.LSTM(hidden_size, return_state=True, return_sequences=True, dropout=0.4)\n",
    "encoder_outputs, state_h, state_c= encoder_lstm3(encoder_output2)"
   ]
  },
  {
   "cell_type": "code",
   "execution_count": 20,
   "id": "70129b95",
   "metadata": {},
   "outputs": [],
   "source": [
    "decoder_inputs = tf.keras.layers.Input(shape=(None,))\n",
    "decoder_embedding = tf.keras.layers.Embedding(27000, word_dim)(decoder_inputs)\n",
    "decoder_lstm1 = tf.keras.layers.LSTM(hidden_size, return_sequences=True, return_state=True, dropout=0.4)\n",
    "decoder_outputs, _, _ = decoder_lstm1(decoder_embedding, initial_state=[state_h, state_c])\n",
    "\n",
    "attn_layer = tf.keras.layers.AdditiveAttention(name='attention_layer')\n",
    "attn_out = attn_layer([decoder_outputs, encoder_outputs])\n",
    "\n",
    "decoder_concat_input = tf.keras.layers.Concatenate(axis=-1, name='concat_layer')([decoder_outputs, attn_out])\n",
    "decoder_softmax_layer = tf.keras.layers.Dense(27000, activation='softmax')\n",
    "decoder_softmax_outputs = decoder_softmax_layer(decoder_concat_input) "
   ]
  },
  {
   "cell_type": "code",
   "execution_count": 21,
   "id": "573221e8",
   "metadata": {},
   "outputs": [
    {
     "name": "stdout",
     "output_type": "stream",
     "text": [
      "Model: \"model\"\n",
      "__________________________________________________________________________________________________\n",
      "Layer (type)                    Output Shape         Param #     Connected to                     \n",
      "==================================================================================================\n",
      "input_1 (InputLayer)            [(None, 60)]         0                                            \n",
      "__________________________________________________________________________________________________\n",
      "embedding (Embedding)           (None, 60, 256)      6912000     input_1[0][0]                    \n",
      "__________________________________________________________________________________________________\n",
      "lstm (LSTM)                     [(None, 60, 512), (N 1574912     embedding[0][0]                  \n",
      "__________________________________________________________________________________________________\n",
      "input_2 (InputLayer)            [(None, None)]       0                                            \n",
      "__________________________________________________________________________________________________\n",
      "lstm_1 (LSTM)                   [(None, 60, 512), (N 2099200     lstm[0][0]                       \n",
      "__________________________________________________________________________________________________\n",
      "embedding_1 (Embedding)         (None, None, 256)    6912000     input_2[0][0]                    \n",
      "__________________________________________________________________________________________________\n",
      "lstm_2 (LSTM)                   [(None, 60, 512), (N 2099200     lstm_1[0][0]                     \n",
      "__________________________________________________________________________________________________\n",
      "lstm_3 (LSTM)                   [(None, None, 512),  1574912     embedding_1[0][0]                \n",
      "                                                                 lstm_2[0][1]                     \n",
      "                                                                 lstm_2[0][2]                     \n",
      "__________________________________________________________________________________________________\n",
      "attention_layer (AdditiveAttent (None, None, 512)    512         lstm_3[0][0]                     \n",
      "                                                                 lstm_2[0][0]                     \n",
      "__________________________________________________________________________________________________\n",
      "concat_layer (Concatenate)      (None, None, 1024)   0           lstm_3[0][0]                     \n",
      "                                                                 attention_layer[0][0]            \n",
      "__________________________________________________________________________________________________\n",
      "dense (Dense)                   (None, None, 27000)  27675000    concat_layer[0][0]               \n",
      "==================================================================================================\n",
      "Total params: 48,847,736\n",
      "Trainable params: 48,847,736\n",
      "Non-trainable params: 0\n",
      "__________________________________________________________________________________________________\n"
     ]
    }
   ],
   "source": [
    "model = tf.keras.models.Model([encoder_inputs, decoder_inputs], decoder_softmax_outputs)\n",
    "model.summary()"
   ]
  },
  {
   "cell_type": "code",
   "execution_count": 22,
   "id": "ad14f039",
   "metadata": {},
   "outputs": [
    {
     "name": "stdout",
     "output_type": "stream",
     "text": [
      "Epoch 1/50\n",
      "307/307 [==============================] - 172s 541ms/step - loss: 4.3088 - val_loss: 3.9853\n",
      "Epoch 2/50\n",
      "307/307 [==============================] - 166s 541ms/step - loss: 3.7592 - val_loss: 3.6240\n",
      "Epoch 3/50\n",
      "307/307 [==============================] - 166s 542ms/step - loss: 3.4141 - val_loss: 3.4007\n",
      "Epoch 4/50\n",
      "307/307 [==============================] - 166s 541ms/step - loss: 3.1646 - val_loss: 3.2301\n",
      "Epoch 5/50\n",
      "307/307 [==============================] - 166s 541ms/step - loss: 2.9681 - val_loss: 3.1239\n",
      "Epoch 6/50\n",
      "307/307 [==============================] - 166s 542ms/step - loss: 2.8034 - val_loss: 3.0877\n",
      "Epoch 7/50\n",
      "307/307 [==============================] - 166s 541ms/step - loss: 2.6606 - val_loss: 3.0041\n",
      "Epoch 8/50\n",
      "307/307 [==============================] - 166s 542ms/step - loss: 2.5360 - val_loss: 2.9662\n",
      "Epoch 9/50\n",
      "307/307 [==============================] - 166s 542ms/step - loss: 2.4231 - val_loss: 2.9468\n",
      "Epoch 10/50\n",
      "307/307 [==============================] - 166s 542ms/step - loss: 2.3185 - val_loss: 2.9352\n",
      "Epoch 11/50\n",
      "307/307 [==============================] - 166s 542ms/step - loss: 2.2240 - val_loss: 2.9225\n",
      "Epoch 12/50\n",
      "307/307 [==============================] - 167s 544ms/step - loss: 2.1354 - val_loss: 2.9181\n",
      "Epoch 13/50\n",
      "307/307 [==============================] - 167s 543ms/step - loss: 2.0516 - val_loss: 2.9176\n",
      "Epoch 14/50\n",
      "307/307 [==============================] - 167s 543ms/step - loss: 1.9748 - val_loss: 2.9231\n",
      "Epoch 15/50\n",
      "307/307 [==============================] - 167s 543ms/step - loss: 1.9028 - val_loss: 2.9271\n",
      "Epoch 00015: early stopping\n"
     ]
    }
   ],
   "source": [
    "model.compile(optimizer='rmsprop', loss='sparse_categorical_crossentropy')\n",
    "\n",
    "es = tf.keras.callbacks.EarlyStopping(monitor='val_loss', patience=2, verbose=1)\n",
    "\n",
    "history = model.fit(x=[encoder_train_input, decoder_train_input], \n",
    "                    y=decoder_train_output, \n",
    "                    validation_data=([encoder_test_input, decoder_test_input], decoder_test_output), \n",
    "                    batch_size=256, \n",
    "                    callbacks=[es], \n",
    "                    epochs=50)"
   ]
  },
  {
   "cell_type": "code",
   "execution_count": 23,
   "id": "6044d3af",
   "metadata": {},
   "outputs": [
    {
     "data": {
      "image/png": "[encoded data removed]",
      "text/plain": [
       "<Figure size 432x288 with 1 Axes>"
      ]
     },
     "metadata": {
      "needs_background": "light"
     },
     "output_type": "display_data"
    }
   ],
   "source": [
    "plt.plot(history.history['loss'], label='train')\n",
    "plt.plot(history.history['val_loss'], label='test')\n",
    "plt.legend()\n",
    "plt.show()"
   ]
  },
  {
   "cell_type": "code",
   "execution_count": 24,
   "id": "ca0679e0",
   "metadata": {},
   "outputs": [],
   "source": [
    "encoder_model = tf.keras.models.Model(inputs=encoder_inputs, outputs=[encoder_outputs, state_h, state_c])\n",
    "\n",
    "decoder_state_input_h = tf.keras.layers.Input(shape=(hidden_size,))\n",
    "decoder_state_input_c = tf.keras.layers.Input(shape=(hidden_size,))\n",
    "\n",
    "decoder_outputs, state_h2, state_c2 = decoder_lstm1(decoder_embedding, initial_state=[decoder_state_input_h, decoder_state_input_c])\n",
    "\n",
    "decoder_hidden_state_input = tf.keras.layers.Input(shape=(text_maxlen, hidden_size))\n",
    "\n",
    "attn_out_inf = attn_layer([decoder_outputs, decoder_hidden_state_input])\n",
    "\n",
    "decoder_inf_concat = tf.keras.layers.Concatenate(axis=-1, name='concat')([decoder_outputs, attn_out_inf])\n",
    "decoder_outputs = decoder_softmax_layer(decoder_inf_concat) \n",
    "\n",
    "decoder_model = tf.keras.models.Model(\n",
    "    [decoder_inputs] + [decoder_hidden_state_input, decoder_state_input_h, decoder_state_input_c],\n",
    "    [decoder_outputs] + [state_h2, state_c2])"
   ]
  },
  {
   "cell_type": "code",
   "execution_count": 108,
   "id": "7716ca81",
   "metadata": {},
   "outputs": [],
   "source": [
    "def decode_sequence(input_sentence):\n",
    "    e_out, e_h, e_c = encoder_model.predict(input_sentence)\n",
    "    target_seq = np.zeros((1,1)) \n",
    "    target_seq[0, 0] = eng_tokenizer.word_index[\"<sos>\"]\n",
    "    \n",
    "    flag = True\n",
    "    decoded_sentence = \"\"\n",
    "    while flag:\n",
    "        output_tokens, h, c = decoder_model.predict([target_seq] + [e_out, e_h, e_c])\n",
    "\n",
    "        sampled_token_index = np.argmax(output_tokens[0, -1, :])\n",
    "        if sampled_token_index ==0:\n",
    "            flag = False\n",
    "        else:\n",
    "            sampled_token = eng_tokenizer.index_word[sampled_token_index]\n",
    "            decoded_sentence += ' ' + sampled_token\n",
    "\n",
    "            if sampled_token == \"<eos>\" or len(decoded_sentence) > headlines_maxlen:\n",
    "                flag = False\n",
    "  \n",
    "            target_seq = np.zeros((1, 1))\n",
    "            target_seq[0, 0] = sampled_token_index\n",
    "\n",
    "            states_value = [h, c]\n",
    "\n",
    "    return decoded_sentence\n"
   ]
  },
  {
   "cell_type": "code",
   "execution_count": 109,
   "id": "a099e124",
   "metadata": {},
   "outputs": [],
   "source": [
    "def seq2text(input_seq):\n",
    "    temp=''\n",
    "    for i in input_seq:\n",
    "        if i != 0:\n",
    "            temp = temp + str(eng_tokenizer.index_word[i])+' '\n",
    "    return temp\n",
    "\n",
    "def seq2summary(input_seq):\n",
    "    temp = ''\n",
    "    for i in input_seq:\n",
    "        if i != 0 and i != eng_tokenizer.word_index[\"<sos>\"] and i != eng_tokenizer.word_index[\"<eos>\"]:\n",
    "            temp = temp + eng_tokenizer.index_word[i] + ' '\n",
    "    return temp\n"
   ]
  },
  {
   "cell_type": "code",
   "execution_count": 115,
   "id": "19d8f6b0",
   "metadata": {
    "scrolled": false
   },
   "outputs": [
    {
     "name": "stdout",
     "output_type": "stream",
     "text": [
      "원문 : organiser young achievers matrimony meet said made mistake advertisement event listed beautiful women young achievers made mistake putting beautiful girls achievers india criticising us come event said ad appeared hindu bengaluru edition \n",
      "실제 요약 : who ll come to event now founder of young achievers matrimony \n",
      "예측 요약 :  meghan markle don\n",
      "\n",
      "\n",
      "원문 : six people including four children family killed vietnam war era bomb exploded country nh province victims dormant explosive scrap metal explosion occurred reports said nearly lakh tonnes explosives used vietnam war remain hidden country according government figures \n",
      "실제 요약 : killed in vietnam war era bomb explosion \n",
      "예측 요약 :  killed in yrs after\n",
      "\n",
      "\n",
      "원문 : class student allegedly tied electric pole left sun around three hours attending school telangana child father punished attend school week child parents let counselled case registered police officials said \n",
      "실제 요약 : father ties minor son to pole for skipping school in gana \n",
      "예측 요약 :  class class class\n",
      "\n",
      "\n",
      "원문 : pacer appeared five tests one day internationals south africa charged match fixing nation cricket board charges related south africa domestic twenty series held six players already banned trying fix outcome matches league \n",
      "실제 요약 : south african international charged with match fixing \n",
      "예측 요약 :  england cricketer\n",
      "\n",
      "\n",
      "원문 : university california san diego engineers developed smartphone case record track user blood sugar levels called features sensor corner enzyme packed pellets housed stylus attached users dispense pellet onto sensor drop blood sample measure glucose concentration \n",
      "실제 요약 : phone case to monitor users blood sugar levels made \n",
      "예측 요약 :  device device device\n",
      "\n",
      "\n"
     ]
    }
   ],
   "source": [
    "for i in range(30, 35):\n",
    "    print(\"원문 :\", seq2text(encoder_test_input[i]))\n",
    "    print(\"실제 요약 :\", seq2summary(decoder_test_input[i]))\n",
    "    print(\"예측 요약 :\", decode_sequence(encoder_test_input[i].reshape(1, text_maxlen)))\n",
    "    print(\"\\n\")"
   ]
  },
  {
   "cell_type": "code",
   "execution_count": 123,
   "id": "225b2a5f",
   "metadata": {},
   "outputs": [
    {
     "name": "stdout",
     "output_type": "stream",
     "text": [
      "원문 : Italian third division football side Lucchese's head coach Giancarlo Favarin has been banned for five months for headbutting Alessandria's assistant coach Gaetano Mancino during a brawl following the teams' 2-2 draw on Sunday. Mancino was caught off-balance and knocked to the ground after the headbutt. Earlier in the match, Favarin had told his own player to break an opponent's legs.\n",
      "실제 요약 : Italian coach knocks rival down with headbutt, banned for 5 months\n",
      "추출적 요약 : Italian third division football side Lucchese's head coach Giancarlo Favarin has been banned for five months for headbutting Alessandria's assistant coach Gaetano Mancino during a brawl following the teams' 2-2 draw on Sunday.\n",
      "\n",
      "원문 : Cyclists taking part in National Track Cycling Championship in Jaipur opted to sleep on the floor inside the stadium instead of hotels over expensive cycles. The organisers had booked hotels but they didn't have the provision for cyclists to keep their bikes inside. A national gold medallist said their cycles cost between Ã¢ÂÂ¹5-9 lakh and once damaged, they become non-repairable. \n",
      "실제 요약 : Cyclists sleep on stadium floor instead of hotel over costly cycles\n",
      "추출적 요약 : Cyclists taking part in National Track Cycling Championship in Jaipur opted to sleep on the floor inside the stadium instead of hotels over expensive cycles.\n",
      "\n",
      "원문 : Silvia Grecco, a 56-year-old Brazilian mother narrates her local football team Palmeiras' matches live to her 12-year-old blind and autistic son Nickollas from the stands. \"I describe details: this player is wearing short sleeves...colour of...football boots, hair colour...Everything I see and feel, I tell him, even when I need to curse the referee!\" Grecco said after a recent match.\n",
      "실제 요약 : Brazilian mother narrates football matches to blind son from stands\n",
      "추출적 요약 : Silvia Grecco, a 56-year-old Brazilian mother narrates her local football team Palmeiras' matches live to her 12-year-old blind and autistic son Nickollas from the stands.\n",
      "\n",
      "원문 : A TechCrunch report has claimed that IndiaÃ¢ÂÂs largest bank SBI secured a passwordless server \"overnight\" on being alerted it allowed anyone to access phone numbers, bank balances, and transactions of millions of its customers. The Mumbai-based server was containing two months of data from SBI Quick, an SMS and call-based system used to request basic information about accounts, TechCrunch revealed.\n",
      "실제 요약 : SBI left account data of millions of users unprotected: Report\n",
      "추출적 요약 : A TechCrunch report has claimed that IndiaÃ¢ÂÂs largest bank SBI secured a passwordless server \"overnight\" on being alerted it allowed anyone to access phone numbers, bank balances, and transactions of millions of its customers.\n",
      "\n",
      "원문 : Rahul Gandhi has replied to Goa CM Manohar Parrikar's letter, which accused the Congress President of using his \"visit to an ailing man for political gains\". \"He's under immense pressure from the PM after our meeting and needs to demonstrate his loyalty by attacking me,\" Gandhi wrote in his letter. Parrikar had clarified he didn't discuss Rafale deal with Rahul.\n",
      "실제 요약 : CM Parrikar under pressure from PM after our Goa meet: Rahul\n",
      "추출적 요약 : Rahul Gandhi has replied to Goa CM Manohar Parrikar's letter, which accused the Congress President of using his \"visit to an ailing man for political gains\".\n",
      "\n"
     ]
    }
   ],
   "source": [
    "data_s = pd.read_csv('news_summary_more.csv', encoding='iso-8859-1')\n",
    "for i in range(30, 35):\n",
    "    print(\"원문 :\", data_s['text'][i])\n",
    "    print(\"실제 요약 :\", data_s['headlines'][i])\n",
    "    print(\"추출적 요약 :\", summarize(data_s['text'][i], words=headlines_maxlen))\n",
    "    print()"
   ]
  },
  {
   "cell_type": "markdown",
   "id": "4a6a87aa",
   "metadata": {},
   "source": [
    "## 결론\n",
    "\n",
    "### seq2seq에 attention을 적용해서 기사를 요약해 보았습니다.\n",
    "### 결론은 대실패... 그럭저럭 중요단어는 추출해낸거 같은데 뉴스 요약이라고 보기에는 힘든 제목이 출력되었습니다. 애초에 전처리부터 실패하지 않았나 싶긴한데 시간이 너무 부족해서 여러가지 테스팅을 해볼 수 없었다는게 한계였던거 같네요\n",
    "### 사실 이번에 lstm다루면서 배운게 많았어서 더 해보고 싶긴한데 트레인 시간의 압박이 너무 컸죠 머 한번 돌리는데 1시간은 잡아야 했으니\n",
    "### summa는 처음에 텍스트로 입력 줬을 때 안돌아서 너무 당황스러웠습니다. 급하게 예제 찾기는 했는데 지금도 이게 뭐지 싶은 라이브러리네요. 인코딩 방식에 따라 뭐 달라지는 건지 깃에는 그냥 string 넣으면 된다고 해놓고 막상 넣고 돌리면 아무것도 안나오고 워드갯수는 준다고 줘도 지맘대로 뽑고, 역시 사람들이 안 쓰는데는 그만한 이유가 다 있다~~~는걸 또한번 깨닿는 소중한 시간아었습니다\n",
    "\n",
    "### attentional seq2seq vs summa\n",
    "#### 완성도  attentional seq2seq < summa\n",
    "#### 안정성 attentional seq2seq > summa\n",
    "#### 적합도 attentional seq2seq > summa\n",
    "#### 성능    attentional seq2seq < summa"
   ]
  }
 ],
 "metadata": {
  "kernelspec": {
   "display_name": "Python 3 (ipykernel)",
   "language": "python",
   "name": "python3"
  },
  "language_info": {
   "codemirror_mode": {
    "name": "ipython",
    "version": 3
   },
   "file_extension": ".py",
   "mimetype": "text/x-python",
   "name": "python",
   "nbconvert_exporter": "python",
   "pygments_lexer": "ipython3",
   "version": "3.9.7"
  }
 },
 "nbformat": 4,
 "nbformat_minor": 5
}

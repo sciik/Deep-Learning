{
 "cells": [
  {
   "cell_type": "code",
   "execution_count": 1,
   "id": "3ae8188c",
   "metadata": {},
   "outputs": [],
   "source": [
    "import numpy as np\n",
    "import pandas as pd\n",
    "import matplotlib.pyplot as plt\n",
    "import scipy\n",
    "import implicit"
   ]
  },
  {
   "cell_type": "code",
   "execution_count": 87,
   "id": "76858c6c",
   "metadata": {},
   "outputs": [],
   "source": [
    "rating_file_path = \"./data/ml-1m/ratings.dat\"\n",
    "ratings_cols = ['user_id', 'movie_id', 'ratings', 'timestamp']\n",
    "data = pd.read_csv(rating_file_path, sep='::', names=ratings_cols, engine='python', encoding = \"ISO-8859-1\")\n",
    "orginal_data_size = len(data)\n",
    "\n",
    "movie_file_path = \"./data/ml-1m/movies.dat\"\n",
    "cols = ['movie_id', 'title', 'genre'] \n",
    "movies = pd.read_csv(movie_file_path, sep='::', names=cols, engine='python', encoding='ISO-8859-1')"
   ]
  },
  {
   "cell_type": "code",
   "execution_count": 88,
   "id": "88cbfe25",
   "metadata": {},
   "outputs": [
    {
     "data": {
      "text/html": [
       "<div>\n",
       "<style scoped>\n",
       "    .dataframe tbody tr th:only-of-type {\n",
       "        vertical-align: middle;\n",
       "    }\n",
       "\n",
       "    .dataframe tbody tr th {\n",
       "        vertical-align: top;\n",
       "    }\n",
       "\n",
       "    .dataframe thead th {\n",
       "        text-align: right;\n",
       "    }\n",
       "</style>\n",
       "<table border=\"1\" class=\"dataframe\">\n",
       "  <thead>\n",
       "    <tr style=\"text-align: right;\">\n",
       "      <th></th>\n",
       "      <th>user_id</th>\n",
       "      <th>movie_id</th>\n",
       "      <th>ratings</th>\n",
       "      <th>timestamp</th>\n",
       "    </tr>\n",
       "  </thead>\n",
       "  <tbody>\n",
       "    <tr>\n",
       "      <th>0</th>\n",
       "      <td>1</td>\n",
       "      <td>1193</td>\n",
       "      <td>5</td>\n",
       "      <td>978300760</td>\n",
       "    </tr>\n",
       "    <tr>\n",
       "      <th>1</th>\n",
       "      <td>1</td>\n",
       "      <td>661</td>\n",
       "      <td>3</td>\n",
       "      <td>978302109</td>\n",
       "    </tr>\n",
       "    <tr>\n",
       "      <th>2</th>\n",
       "      <td>1</td>\n",
       "      <td>914</td>\n",
       "      <td>3</td>\n",
       "      <td>978301968</td>\n",
       "    </tr>\n",
       "    <tr>\n",
       "      <th>3</th>\n",
       "      <td>1</td>\n",
       "      <td>3408</td>\n",
       "      <td>4</td>\n",
       "      <td>978300275</td>\n",
       "    </tr>\n",
       "    <tr>\n",
       "      <th>4</th>\n",
       "      <td>1</td>\n",
       "      <td>2355</td>\n",
       "      <td>5</td>\n",
       "      <td>978824291</td>\n",
       "    </tr>\n",
       "  </tbody>\n",
       "</table>\n",
       "</div>"
      ],
      "text/plain": [
       "   user_id  movie_id  ratings  timestamp\n",
       "0        1      1193        5  978300760\n",
       "1        1       661        3  978302109\n",
       "2        1       914        3  978301968\n",
       "3        1      3408        4  978300275\n",
       "4        1      2355        5  978824291"
      ]
     },
     "execution_count": 88,
     "metadata": {},
     "output_type": "execute_result"
    }
   ],
   "source": [
    "data.head()"
   ]
  },
  {
   "cell_type": "code",
   "execution_count": 89,
   "id": "d54c5081",
   "metadata": {},
   "outputs": [
    {
     "data": {
      "text/html": [
       "<div>\n",
       "<style scoped>\n",
       "    .dataframe tbody tr th:only-of-type {\n",
       "        vertical-align: middle;\n",
       "    }\n",
       "\n",
       "    .dataframe tbody tr th {\n",
       "        vertical-align: top;\n",
       "    }\n",
       "\n",
       "    .dataframe thead th {\n",
       "        text-align: right;\n",
       "    }\n",
       "</style>\n",
       "<table border=\"1\" class=\"dataframe\">\n",
       "  <thead>\n",
       "    <tr style=\"text-align: right;\">\n",
       "      <th></th>\n",
       "      <th>movie_id</th>\n",
       "      <th>title</th>\n",
       "      <th>genre</th>\n",
       "    </tr>\n",
       "  </thead>\n",
       "  <tbody>\n",
       "    <tr>\n",
       "      <th>0</th>\n",
       "      <td>1</td>\n",
       "      <td>Toy Story (1995)</td>\n",
       "      <td>Animation|Children's|Comedy</td>\n",
       "    </tr>\n",
       "    <tr>\n",
       "      <th>1</th>\n",
       "      <td>2</td>\n",
       "      <td>Jumanji (1995)</td>\n",
       "      <td>Adventure|Children's|Fantasy</td>\n",
       "    </tr>\n",
       "    <tr>\n",
       "      <th>2</th>\n",
       "      <td>3</td>\n",
       "      <td>Grumpier Old Men (1995)</td>\n",
       "      <td>Comedy|Romance</td>\n",
       "    </tr>\n",
       "    <tr>\n",
       "      <th>3</th>\n",
       "      <td>4</td>\n",
       "      <td>Waiting to Exhale (1995)</td>\n",
       "      <td>Comedy|Drama</td>\n",
       "    </tr>\n",
       "    <tr>\n",
       "      <th>4</th>\n",
       "      <td>5</td>\n",
       "      <td>Father of the Bride Part II (1995)</td>\n",
       "      <td>Comedy</td>\n",
       "    </tr>\n",
       "  </tbody>\n",
       "</table>\n",
       "</div>"
      ],
      "text/plain": [
       "   movie_id                               title                         genre\n",
       "0         1                    Toy Story (1995)   Animation|Children's|Comedy\n",
       "1         2                      Jumanji (1995)  Adventure|Children's|Fantasy\n",
       "2         3             Grumpier Old Men (1995)                Comedy|Romance\n",
       "3         4            Waiting to Exhale (1995)                  Comedy|Drama\n",
       "4         5  Father of the Bride Part II (1995)                        Comedy"
      ]
     },
     "execution_count": 89,
     "metadata": {},
     "output_type": "execute_result"
    }
   ],
   "source": [
    "movies.head()"
   ]
  },
  {
   "cell_type": "code",
   "execution_count": 90,
   "id": "4ab9c46f",
   "metadata": {},
   "outputs": [],
   "source": [
    "data = data[data['ratings'] >= 3]\n",
    "filtered_data_size = len(data)\n",
    "\n",
    "data.rename(columns={'ratings':'counts'}, inplace=True)"
   ]
  },
  {
   "cell_type": "code",
   "execution_count": 91,
   "id": "b693e933",
   "metadata": {},
   "outputs": [
    {
     "data": {
      "text/html": [
       "<div>\n",
       "<style scoped>\n",
       "    .dataframe tbody tr th:only-of-type {\n",
       "        vertical-align: middle;\n",
       "    }\n",
       "\n",
       "    .dataframe tbody tr th {\n",
       "        vertical-align: top;\n",
       "    }\n",
       "\n",
       "    .dataframe thead th {\n",
       "        text-align: right;\n",
       "    }\n",
       "</style>\n",
       "<table border=\"1\" class=\"dataframe\">\n",
       "  <thead>\n",
       "    <tr style=\"text-align: right;\">\n",
       "      <th></th>\n",
       "      <th>user_id</th>\n",
       "      <th>movie_id</th>\n",
       "      <th>counts</th>\n",
       "      <th>timestamp</th>\n",
       "    </tr>\n",
       "  </thead>\n",
       "  <tbody>\n",
       "    <tr>\n",
       "      <th>0</th>\n",
       "      <td>1</td>\n",
       "      <td>1193</td>\n",
       "      <td>5</td>\n",
       "      <td>978300760</td>\n",
       "    </tr>\n",
       "    <tr>\n",
       "      <th>1</th>\n",
       "      <td>1</td>\n",
       "      <td>661</td>\n",
       "      <td>3</td>\n",
       "      <td>978302109</td>\n",
       "    </tr>\n",
       "    <tr>\n",
       "      <th>2</th>\n",
       "      <td>1</td>\n",
       "      <td>914</td>\n",
       "      <td>3</td>\n",
       "      <td>978301968</td>\n",
       "    </tr>\n",
       "    <tr>\n",
       "      <th>3</th>\n",
       "      <td>1</td>\n",
       "      <td>3408</td>\n",
       "      <td>4</td>\n",
       "      <td>978300275</td>\n",
       "    </tr>\n",
       "    <tr>\n",
       "      <th>4</th>\n",
       "      <td>1</td>\n",
       "      <td>2355</td>\n",
       "      <td>5</td>\n",
       "      <td>978824291</td>\n",
       "    </tr>\n",
       "  </tbody>\n",
       "</table>\n",
       "</div>"
      ],
      "text/plain": [
       "   user_id  movie_id  counts  timestamp\n",
       "0        1      1193       5  978300760\n",
       "1        1       661       3  978302109\n",
       "2        1       914       3  978301968\n",
       "3        1      3408       4  978300275\n",
       "4        1      2355       5  978824291"
      ]
     },
     "execution_count": 91,
     "metadata": {},
     "output_type": "execute_result"
    }
   ],
   "source": [
    "data.head()"
   ]
  },
  {
   "cell_type": "code",
   "execution_count": 111,
   "id": "2a6580d4",
   "metadata": {},
   "outputs": [
    {
     "name": "stdout",
     "output_type": "stream",
     "text": [
      "3883\n",
      "6040\n",
      "[array(['Alien (1979)'], dtype=object), array(['Ghostbusters (1984)'], dtype=object), array(['Toy Story (1995)'], dtype=object), array(['Terminator, The (1984)'], dtype=object), array(['Forrest Gump (1994)'], dtype=object), array(['E.T. the Extra-Terrestrial (1982)'], dtype=object), array(['Groundhog Day (1993)'], dtype=object), array(['Being John Malkovich (1999)'], dtype=object), array(['Pulp Fiction (1994)'], dtype=object), array(['Men in Black (1997)'], dtype=object), array(['Shakespeare in Love (1998)'], dtype=object), array(['L.A. Confidential (1997)'], dtype=object), array(['Jurassic Park (1993)'], dtype=object), array(['Princess Bride, The (1987)'], dtype=object), array(['Godfather, The (1972)'], dtype=object), array(['Back to the Future (1985)'], dtype=object), array(['Shawshank Redemption, The (1994)'], dtype=object), array(['Braveheart (1995)'], dtype=object), array([\"Schindler's List (1993)\"], dtype=object), array(['Fargo (1996)'], dtype=object), array(['Terminator 2: Judgment Day (1991)'], dtype=object), array(['Sixth Sense, The (1999)'], dtype=object), array(['Matrix, The (1999)'], dtype=object), array(['Silence of the Lambs, The (1991)'], dtype=object), array(['Raiders of the Lost Ark (1981)'], dtype=object), array(['Star Wars: Episode VI - Return of the Jedi (1983)'], dtype=object), array(['Saving Private Ryan (1998)'], dtype=object), array(['Star Wars: Episode V - The Empire Strikes Back (1980)'],\n",
      "      dtype=object), array(['Star Wars: Episode IV - A New Hope (1977)'], dtype=object), array(['American Beauty (1999)'], dtype=object)]\n"
     ]
    }
   ],
   "source": [
    "print(movies[\"title\"].nunique())\n",
    "print(data[\"user_id\"].nunique())\n",
    "pm = data.groupby(\"movie_id\")[\"counts\"].sum().sort_values()[-30:].index\n",
    "pp = data.groupby(\"movie_id\")[\"counts\"].sum().sort_values()[-30:].values\n",
    "\n",
    "movie_id = [movies[movies[\"movie_id\"] == i][\"title\"].values for i in pm]\n",
    "print(movie_id)"
   ]
  },
  {
   "cell_type": "code",
   "execution_count": 93,
   "id": "224cc9d0",
   "metadata": {},
   "outputs": [
    {
     "data": {
      "text/html": [
       "<div>\n",
       "<style scoped>\n",
       "    .dataframe tbody tr th:only-of-type {\n",
       "        vertical-align: middle;\n",
       "    }\n",
       "\n",
       "    .dataframe tbody tr th {\n",
       "        vertical-align: top;\n",
       "    }\n",
       "\n",
       "    .dataframe thead th {\n",
       "        text-align: right;\n",
       "    }\n",
       "</style>\n",
       "<table border=\"1\" class=\"dataframe\">\n",
       "  <thead>\n",
       "    <tr style=\"text-align: right;\">\n",
       "      <th></th>\n",
       "      <th>user_id</th>\n",
       "      <th>movie_id</th>\n",
       "      <th>counts</th>\n",
       "      <th>timestamp</th>\n",
       "    </tr>\n",
       "  </thead>\n",
       "  <tbody>\n",
       "    <tr>\n",
       "      <th>836473</th>\n",
       "      <td>6040</td>\n",
       "      <td>1090</td>\n",
       "      <td>3</td>\n",
       "      <td>956715518</td>\n",
       "    </tr>\n",
       "    <tr>\n",
       "      <th>836474</th>\n",
       "      <td>6040</td>\n",
       "      <td>1094</td>\n",
       "      <td>5</td>\n",
       "      <td>956704887</td>\n",
       "    </tr>\n",
       "    <tr>\n",
       "      <th>836475</th>\n",
       "      <td>6040</td>\n",
       "      <td>562</td>\n",
       "      <td>5</td>\n",
       "      <td>956704746</td>\n",
       "    </tr>\n",
       "    <tr>\n",
       "      <th>836476</th>\n",
       "      <td>6040</td>\n",
       "      <td>1096</td>\n",
       "      <td>4</td>\n",
       "      <td>956715648</td>\n",
       "    </tr>\n",
       "    <tr>\n",
       "      <th>836477</th>\n",
       "      <td>6040</td>\n",
       "      <td>1097</td>\n",
       "      <td>4</td>\n",
       "      <td>956715569</td>\n",
       "    </tr>\n",
       "    <tr>\n",
       "      <th>836478</th>\n",
       "      <td>6041</td>\n",
       "      <td>2502</td>\n",
       "      <td>5</td>\n",
       "      <td></td>\n",
       "    </tr>\n",
       "    <tr>\n",
       "      <th>836479</th>\n",
       "      <td>6041</td>\n",
       "      <td>585</td>\n",
       "      <td>5</td>\n",
       "      <td></td>\n",
       "    </tr>\n",
       "    <tr>\n",
       "      <th>836480</th>\n",
       "      <td>6041</td>\n",
       "      <td>589</td>\n",
       "      <td>5</td>\n",
       "      <td></td>\n",
       "    </tr>\n",
       "    <tr>\n",
       "      <th>836481</th>\n",
       "      <td>6041</td>\n",
       "      <td>857</td>\n",
       "      <td>5</td>\n",
       "      <td></td>\n",
       "    </tr>\n",
       "    <tr>\n",
       "      <th>836482</th>\n",
       "      <td>6041</td>\n",
       "      <td>1539</td>\n",
       "      <td>5</td>\n",
       "      <td></td>\n",
       "    </tr>\n",
       "  </tbody>\n",
       "</table>\n",
       "</div>"
      ],
      "text/plain": [
       "        user_id  movie_id  counts  timestamp\n",
       "836473     6040      1090       3  956715518\n",
       "836474     6040      1094       5  956704887\n",
       "836475     6040       562       5  956704746\n",
       "836476     6040      1096       4  956715648\n",
       "836477     6040      1097       4  956715569\n",
       "836478     6041      2502       5           \n",
       "836479     6041       585       5           \n",
       "836480     6041       589       5           \n",
       "836481     6041       857       5           \n",
       "836482     6041      1539       5           "
      ]
     },
     "execution_count": 93,
     "metadata": {},
     "output_type": "execute_result"
    }
   ],
   "source": [
    "my_id = 6041\n",
    "my_movies_name = [\"Matrix, The (1999)\", \"Terminator 2: Judgment Day (1991)\", \"Silence of the Lambs, The (1991)\", \"Godfather, The (1972)\", \"Men in Black (1997)\"]\n",
    "my_movies_id = [2502, 585, 589, 857, 1539]\n",
    "my_rating = [5, 5, 5, 5, 5]\n",
    "\n",
    "df = pd.DataFrame({\"user_id\":my_id, \"movie_id\":my_movies_id, \"counts\":my_rating, \"timestamp\":\"\"})\n",
    "\n",
    "data = data.append(df, ignore_index=True)\n",
    "data.tail(10)\n"
   ]
  },
  {
   "cell_type": "code",
   "execution_count": 104,
   "id": "434daec0",
   "metadata": {},
   "outputs": [
    {
     "data": {
      "text/plain": [
       "<6042x3953 sparse matrix of type '<class 'numpy.int64'>'\n",
       "\twith 836483 stored elements in Compressed Sparse Row format>"
      ]
     },
     "execution_count": 104,
     "metadata": {},
     "output_type": "execute_result"
    }
   ],
   "source": [
    "data = data[[\"user_id\", \"movie_id\", \"counts\"]]\n",
    "\n",
    "csr_data = scipy.sparse.csr_matrix((data.counts, (data.user_id, data.movie_id)), shape=(max(data[\"user_id\"])+1, max(data[\"movie_id\"])+1))\n",
    "csr_data"
   ]
  },
  {
   "cell_type": "code",
   "execution_count": 105,
   "id": "87046f93",
   "metadata": {},
   "outputs": [],
   "source": [
    "import os\n",
    "\n",
    "os.environ['OPENBLAS_NUM_THREADS']='1'\n",
    "os.environ['KMP_DUPLICATE_LIB_OK']='True'\n",
    "os.environ['MKL_NUM_THREADS']='1'"
   ]
  },
  {
   "cell_type": "code",
   "execution_count": 107,
   "id": "61388605",
   "metadata": {},
   "outputs": [
    {
     "data": {
      "application/vnd.jupyter.widget-view+json": {
       "model_id": "2d5fbd8b430c43ca9b30f4d09c5fc007",
       "version_major": 2,
       "version_minor": 0
      },
      "text/plain": [
       "  0%|          | 0/20 [00:00<?, ?it/s]"
      ]
     },
     "metadata": {},
     "output_type": "display_data"
    }
   ],
   "source": [
    "als_model = implicit.als.AlternatingLeastSquares(factors=100, regularization=0.01, use_gpu=False, iterations=20, dtype=np.float32)\n",
    "csr_data_transpose = csr_data.T\n",
    "als_model.fit(csr_data_transpose)"
   ]
  },
  {
   "cell_type": "code",
   "execution_count": 135,
   "id": "0324b2cf",
   "metadata": {},
   "outputs": [],
   "source": [
    "movie_to_index = {}\n",
    "index_to_movie = {}\n",
    "\n",
    "for i in range(len(movies)):\n",
    "    movie_to_index[movies[\"movie_id\"][i]] = movies[\"title\"][i]\n",
    "    index_to_movie[movies[\"title\"][i]] = movies[\"movie_id\"][i]"
   ]
  },
  {
   "cell_type": "code",
   "execution_count": 140,
   "id": "df47f393",
   "metadata": {},
   "outputs": [
    {
     "name": "stdout",
     "output_type": "stream",
     "text": [
      "매트릭스 선호도 : 0.30065006\n",
      "주만지 선호도 : -0.007658587\n"
     ]
    }
   ],
   "source": [
    "my_vector = als_model.user_factors[my_id]\n",
    "matrix_vector = als_model.item_factors[index_to_movie[\"Matrix, The (1999)\"]]\n",
    "jumanji_vector = als_model.item_factors[index_to_movie[\"Jumanji (1995)\"]]\n",
    "\n",
    "print(\"매트릭스 선호도 :\", np.dot(my_vector, matrix_vector))\n",
    "print(\"주만지 선호도 :\", np.dot(my_vector, jumanji_vector))"
   ]
  },
  {
   "cell_type": "code",
   "execution_count": 176,
   "id": "c22faf46",
   "metadata": {},
   "outputs": [
    {
     "name": "stdout",
     "output_type": "stream",
     "text": [
      "매트릭스와 비슷한 영화\n",
      "Terminator 2: Judgment Day (1991)\n",
      "Total Recall (1990)\n",
      "Fugitive, The (1993)\n",
      "Terminator, The (1984)\n",
      "Fifth Element, The (1997)\n",
      "Face/Off (1997)\n",
      "Jurassic Park (1993)\n",
      "Men in Black (1997)\n",
      "Twelve Monkeys (1995)\n"
     ]
    }
   ],
   "source": [
    "similar_movies = als_model.similar_items(index_to_movie[\"Matrix, The (1999)\"])\n",
    "print(\"매트릭스와 비슷한 영화\")\n",
    "for i in range(1, len(similar_movies)):\n",
    "    print(movie_to_index[similar_movies[i][0]])"
   ]
  },
  {
   "cell_type": "code",
   "execution_count": 167,
   "id": "6c7c6c94",
   "metadata": {},
   "outputs": [
    {
     "name": "stdout",
     "output_type": "stream",
     "text": [
      "양들의 침묵과 비슷한 영화\n",
      "Shawshank Redemption, The (1994)\n",
      "Fargo (1996)\n",
      "Pulp Fiction (1994)\n",
      "Schindler's List (1993)\n",
      "Usual Suspects, The (1995)\n",
      "GoodFellas (1990)\n",
      "Sixth Sense, The (1999)\n",
      "Good Will Hunting (1997)\n",
      "Sling Blade (1996)\n"
     ]
    }
   ],
   "source": [
    "similar_movies = als_model.similar_items(index_to_movie[\"Silence of the Lambs, The (1991)\"])\n",
    "print(\"양들의 침묵과 비슷한 영화\")\n",
    "for i in range(1, len(similar_movies)):\n",
    "    print(movie_to_index[similar_movies[i][0]])"
   ]
  },
  {
   "cell_type": "code",
   "execution_count": 170,
   "id": "712bae73",
   "metadata": {},
   "outputs": [
    {
     "name": "stdout",
     "output_type": "stream",
     "text": [
      "내가 좋아할만한 영화\n",
      "One Flew Over the Cuckoo's Nest (1975)\n",
      "Jurassic Park (1993)\n",
      "Fugitive, The (1993)\n",
      "Braveheart (1995)\n",
      "Total Recall (1990)\n",
      "Terminator, The (1984)\n",
      "Men in Black (1997)\n",
      "South Park: Bigger, Longer and Uncut (1999)\n",
      "Rushmore (1998)\n",
      "Hunt for Red October, The (1990)\n",
      "Kingpin (1996)\n",
      "X-Men (2000)\n",
      "Speed (1994)\n",
      "Thomas Crown Affair, The (1999)\n",
      "American Pie (1999)\n",
      "Austin Powers: The Spy Who Shagged Me (1999)\n",
      "Fight Club (1999)\n",
      "Face/Off (1997)\n",
      "Nightmare Before Christmas, The (1993)\n"
     ]
    }
   ],
   "source": [
    "recommand_movies = als_model.recommend(my_id, csr_data, N=20, filter_already_liked_items=True)\n",
    "print(\"내가 좋아할만한 영화\")\n",
    "for i in range(1, len(recommand_movies)):\n",
    "    print(movie_to_index[recommand_movies[i][0]])"
   ]
  },
  {
   "cell_type": "code",
   "execution_count": 175,
   "id": "4870bca5",
   "metadata": {},
   "outputs": [
    {
     "data": {
      "text/plain": [
       "[('Office Space (1999)', 0.11803721528699598),\n",
       " ('Twin Town (1997)', 0.007003374381146878),\n",
       " ('Brady Bunch Movie, The (1995)', 0.0015861963625242329),\n",
       " ('Crows and Sparrows (1949)', 0.0008307394714064547),\n",
       " ('Terminator 2: Judgment Day (1991)', -0.0015074225567798935)]"
      ]
     },
     "execution_count": 175,
     "metadata": {},
     "output_type": "execute_result"
    }
   ],
   "source": [
    "fight_club_explain = als_model.explain(my_id, csr_data, itemid=index_to_movie[\"Fight Club (1999)\"])\n",
    "[(movie_to_index[i[0]], i[1]) for i in fight_club_explain[1]]"
   ]
  },
  {
   "cell_type": "markdown",
   "id": "10eb538c",
   "metadata": {},
   "source": [
    "## 결론\n",
    "### implicit 패키지의 AlternatingLeastSquares 모델을 사용해서 MF모델을 만들어 봤습니다. \n",
    "### 사실  AlternatingLeastSquares 모델이 어떻게 돌아가는 지 잘 모르겠습니다. 어디서 weight가 업데이트지 그라디언트는 어디서 흐르는지\n",
    "### 특이값분해에서부터 후에 나온 트랜스포머까지 전반적으로 정보이론에서 부르는 데이터의 잠재요소 혹은 특징을 찾는데 집중한다는 생각이 많이 듭니다. 퍼셉트론에서 부터 시작한 인공지능이 이제는 인공지능이라고 부르기 힘들 정도로 너무 멀리오지 않았나 하는 생각???\n",
    "### 어쨋든 오늘 노드로 돌아와서\n",
    "### als모델의 항목간의 유사도 측정을 보면 비교적 괜찮은 유사성을 띄는 것을 알 수 있었습니다. 다만 장르, 흥행성적, 연도등의 데이터는 제외하고 별점으로 데이터를 평가했기 때문에 '추천'이라고 까지 보기는 힘든 결과라고 생각합니다. 애초에 제가 알만한 유명 영화를 넣었기 때문에 비슷한 수준의 유명 영화가 나오는 당연한 결과겠죠. 데이터에 아는 영화가 몇개 없어서ㅠㅠㅠㅠ 정성평가도 어렵네요\n",
    "### recommand의 결과로 추천된 항목을 살펴보면 제가 인풋으로 넣을 영화가 블록버스터 특성의 영화 위주로 넣어줬기 때문에 추천영화들도 유사한 영화들이 리턴되었습니다. 한번쯤 들어본 영화들이니까 선호도까지는 반영이 안되더라도 어느정도 유의미한 데이터가 나온것 같습니다.\n",
    "### 마지막으로 추천된 영화중 파이트클럽의 기여도를 뽑아보았습니다. 오피스 스페이스란 영화가 가장 높은 기여도를 준 것으로 나타났습니다. 이것도 처음들어 보는 영화라 분석이 참 어렵네요.. 브래드피트랑 제니퍼애니스톤이랑 사귈때 찍은 영화라서 비슷한 사람들이 비슷한 평점줬나 싶기도 하고 그거말고는 딱히 공통점이 안보여서 뭐 그렇다고 하니깐 그런걸로"
   ]
  },
  {
   "cell_type": "code",
   "execution_count": null,
   "id": "331efd4a",
   "metadata": {},
   "outputs": [],
   "source": []
  }
 ],
 "metadata": {
  "kernelspec": {
   "display_name": "Python 3 (ipykernel)",
   "language": "python",
   "name": "python3"
  },
  "language_info": {
   "codemirror_mode": {
    "name": "ipython",
    "version": 3
   },
   "file_extension": ".py",
   "mimetype": "text/x-python",
   "name": "python",
   "nbconvert_exporter": "python",
   "pygments_lexer": "ipython3",
   "version": "3.9.7"
  }
 },
 "nbformat": 4,
 "nbformat_minor": 5
}

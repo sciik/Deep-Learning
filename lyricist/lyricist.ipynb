{
 "cells": [
  {
   "cell_type": "code",
   "execution_count": 1,
   "id": "946a467d",
   "metadata": {},
   "outputs": [],
   "source": [
    "import glob\n",
    "import re\n",
    "import os\n",
    "import tensorflow as tf\n",
    "from sklearn.model_selection import train_test_split\n",
    "from difflib import SequenceMatcher"
   ]
  },
  {
   "cell_type": "code",
   "execution_count": 2,
   "id": "2b99f8e6",
   "metadata": {},
   "outputs": [
    {
     "name": "stdout",
     "output_type": "stream",
     "text": [
      "187088\n",
      "['', '', '[Spoken Intro:]', 'You ever want something ', \"that you know you shouldn't have \", \"The more you know you shouldn't have it, \", 'The more you want it ', 'And then one day you get it, ', \"It's so good too \", \"But it's just like my girl \"]\n"
     ]
    }
   ],
   "source": [
    "txt_file_path = os.getenv('HOME')+'/aiffel/lyricist/data/lyrics/*'\n",
    "txt_list = glob.glob(txt_file_path)\n",
    "raw_corpus = [] \n",
    "\n",
    "for txt_file in txt_list:\n",
    "    with open(txt_file, \"r\") as f:\n",
    "        raw = f.read().splitlines()\n",
    "        raw_corpus.extend(raw) \n",
    "\n",
    "print(len(raw_corpus))\n",
    "print(raw_corpus[:10])"
   ]
  },
  {
   "cell_type": "code",
   "execution_count": 13,
   "id": "3005a791",
   "metadata": {},
   "outputs": [],
   "source": [
    "corpus = []\n",
    "post = \"\"\n",
    "for sentence in raw_corpus:\n",
    "    if len(sentence) and len(sentence.split()) <= 15:\n",
    "        if sentence[0] != \"(\" and sentence[0] != \"[\" and sentence[-1] != \")\" and sentence[0] != \"]\" and sentence != \"Chorus\":\n",
    "            sentence = sentence.lower().strip()\n",
    "            sentence = re.sub(r'x0-9', \" \", sentence)\n",
    "            sentence = sentence.strip()\n",
    "            sentence = \"<start> \" + sentence + \" <end>\"\n",
    "            \n",
    "            if post != sentence:\n",
    "                corpus.append(sentence)\n",
    "                post = sentence"
   ]
  },
  {
   "cell_type": "code",
   "execution_count": 39,
   "id": "842a51f2",
   "metadata": {},
   "outputs": [
    {
     "name": "stdout",
     "output_type": "stream",
     "text": [
      "159334\n"
     ]
    }
   ],
   "source": [
    "print(len(corpus))"
   ]
  },
  {
   "cell_type": "code",
   "execution_count": 15,
   "id": "4e4e3ebd",
   "metadata": {},
   "outputs": [],
   "source": [
    "tokenizer = tf.keras.preprocessing.text.Tokenizer(num_words=13000, filters=' ', oov_token=\"<unk>\")\n",
    "tokenizer.fit_on_texts(corpus)\n",
    "\n",
    "tensor = tokenizer.texts_to_sequences(corpus)\n",
    "tensor = tf.keras.preprocessing.sequence.pad_sequences(tensor, padding='post')"
   ]
  },
  {
   "cell_type": "code",
   "execution_count": 16,
   "id": "6e605809",
   "metadata": {},
   "outputs": [],
   "source": [
    "source = tensor[:, :-1]\n",
    "target = tensor[:, 1:]\n",
    "\n",
    "X_train, X_test, y_train, y_test = train_test_split(source, target, test_size=0.2, random_state=43)\n",
    "\n",
    "BATCH_SIZE = 256\n",
    "\n",
    "train_dataset = tf.data.Dataset.from_tensor_slices((X_train, y_train))\n",
    "train_dataset = train_dataset.batch(BATCH_SIZE, drop_remainder=True)\n",
    "\n",
    "test_dataset = tf.data.Dataset.from_tensor_slices((X_test, y_test))\n",
    "test_dataset = test_dataset.batch(BATCH_SIZE, drop_remainder=True)"
   ]
  },
  {
   "cell_type": "code",
   "execution_count": 30,
   "id": "0eb574d0",
   "metadata": {},
   "outputs": [],
   "source": [
    "class TextGenerator(tf.keras.Model):\n",
    "    def __init__(self, vocab_size, embedding_size, hidden_size):\n",
    "        super().__init__()\n",
    "        self.embedding = tf.keras.layers.Embedding(vocab_size, embedding_size) \n",
    "        self.rnn_1 = tf.keras.layers.LSTM(hidden_size, return_sequences=True)  \n",
    "        self.rnn_2 = tf.keras.layers.LSTM(hidden_size, return_sequences=True)  \n",
    "        self.rnn_3 = tf.keras.layers.LSTM(hidden_size, return_sequences=True) \n",
    "        self.linear = tf.keras.layers.Dense(vocab_size)\n",
    "        \n",
    "    def call(self, x):\n",
    "        out = self.embedding(x)\n",
    "        out = self.rnn_1(out)\n",
    "        out = self.rnn_2(out)\n",
    "        out = self.rnn_3(out)\n",
    "        out = self.linear(out)\n",
    "        \n",
    "        return out\n",
    "    \n",
    "    \n",
    "embedding_size = 512 \n",
    "hidden_size = 2048 \n",
    "model = TextGenerator(tokenizer.num_words + 1, embedding_size , hidden_size)"
   ]
  },
  {
   "cell_type": "code",
   "execution_count": 31,
   "id": "df6d9c7e",
   "metadata": {
    "scrolled": false
   },
   "outputs": [
    {
     "name": "stdout",
     "output_type": "stream",
     "text": [
      "Epoch 1/10\n",
      "497/497 [==============================] - 410s 771ms/step - loss: 2.9961\n",
      "Epoch 2/10\n",
      "497/497 [==============================] - 383s 772ms/step - loss: 2.5938\n",
      "Epoch 3/10\n",
      "497/497 [==============================] - 384s 772ms/step - loss: 2.4001\n",
      "Epoch 4/10\n",
      "497/497 [==============================] - 385s 774ms/step - loss: 2.2210\n",
      "Epoch 5/10\n",
      "497/497 [==============================] - 385s 775ms/step - loss: 2.0474\n",
      "Epoch 6/10\n",
      "497/497 [==============================] - 386s 776ms/step - loss: 1.8808\n",
      "Epoch 7/10\n",
      "497/497 [==============================] - 386s 776ms/step - loss: 1.7183\n",
      "Epoch 8/10\n",
      "497/497 [==============================] - 385s 775ms/step - loss: 1.5668\n",
      "Epoch 9/10\n",
      "497/497 [==============================] - 385s 774ms/step - loss: 1.4234\n",
      "Epoch 10/10\n",
      "497/497 [==============================] - 385s 775ms/step - loss: 1.2880\n"
     ]
    },
    {
     "data": {
      "text/plain": [
       "<keras.callbacks.History at 0x7f43674d5760>"
      ]
     },
     "execution_count": 31,
     "metadata": {},
     "output_type": "execute_result"
    }
   ],
   "source": [
    "optimizer = tf.keras.optimizers.Adam() \n",
    "loss = tf.keras.losses.SparseCategoricalCrossentropy(from_logits=True, reduction='none')\n",
    "\n",
    "model.compile(loss=loss, optimizer=optimizer) \n",
    "model.fit(train_dataset, epochs=10)"
   ]
  },
  {
   "cell_type": "code",
   "execution_count": 32,
   "id": "4119ece1",
   "metadata": {
    "scrolled": true
   },
   "outputs": [
    {
     "name": "stdout",
     "output_type": "stream",
     "text": [
      "124/124 [==============================] - 36s 278ms/step - loss: 2.2211\n",
      "2.221104383468628\n"
     ]
    }
   ],
   "source": [
    "print(model.evaluate(test_dataset))"
   ]
  },
  {
   "cell_type": "code",
   "execution_count": 37,
   "id": "c88aad89",
   "metadata": {},
   "outputs": [],
   "source": [
    "def generate_text(model, tokenizer, init_sentence=\"<start>\", max_len=20): \n",
    "    test_input = tokenizer.texts_to_sequences([init_sentence]) \n",
    "    test_tensor = tf.convert_to_tensor(test_input, dtype=tf.int64)\n",
    "    end_token = tokenizer.word_index[\"<end>\"]\n",
    "    \n",
    "    flag = True\n",
    "    while flag: \n",
    "        predict = model(test_tensor) \n",
    "        predict_word = tf.argmax(tf.nn.softmax(predict, axis=-1), axis=-1)[:, -1] \n",
    "        test_tensor = tf.concat([test_tensor, tf.expand_dims(predict_word, axis=0)], axis=-1)\n",
    "        \n",
    "        if predict_word.numpy()[0] == end_token or test_tensor.shape[1] >= max_len:\n",
    "            flag = False\n",
    "            \n",
    "    generated = \"\"\n",
    "    \n",
    "    for word_index in test_tensor[0].numpy():\n",
    "        generated += tokenizer.index_word[word_index] + \" \"\n",
    "\n",
    "    return generated "
   ]
  },
  {
   "cell_type": "code",
   "execution_count": 38,
   "id": "377056be",
   "metadata": {
    "scrolled": false
   },
   "outputs": [
    {
     "name": "stdout",
     "output_type": "stream",
     "text": [
      "<start> mother haply, <unk> <end> \n",
      "<start> hello <unk> <end> \n",
      "<start> yeah yeah yeah yeah yeah yeah yeah <end> \n",
      "<start> what you want nixga <end> \n",
      "<start> my <unk> <unk> <end> \n"
     ]
    }
   ],
   "source": [
    "print(generate_text(model, tokenizer, init_sentence=\"<start> mother\"))\n",
    "print(generate_text(model, tokenizer, init_sentence=\"<start> hello\"))\n",
    "print(generate_text(model, tokenizer, init_sentence=\"<start> yeah\"))\n",
    "print(generate_text(model, tokenizer, init_sentence=\"<start> what\"))\n",
    "print(generate_text(model, tokenizer, init_sentence=\"<start> my\"))"
   ]
  },
  {
   "cell_type": "code",
   "execution_count": null,
   "id": "a56133ee",
   "metadata": {},
   "outputs": [],
   "source": []
  },
  {
   "cell_type": "code",
   "execution_count": null,
   "id": "d81e771a",
   "metadata": {},
   "outputs": [],
   "source": []
  }
 ],
 "metadata": {
  "kernelspec": {
   "display_name": "Python 3 (ipykernel)",
   "language": "python",
   "name": "python3"
  },
  "language_info": {
   "codemirror_mode": {
    "name": "ipython",
    "version": 3
   },
   "file_extension": ".py",
   "mimetype": "text/x-python",
   "name": "python",
   "nbconvert_exporter": "python",
   "pygments_lexer": "ipython3",
   "version": "3.9.7"
  }
 },
 "nbformat": 4,
 "nbformat_minor": 5
}

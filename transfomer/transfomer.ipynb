{
 "cells": [
  {
   "cell_type": "code",
   "execution_count": 325,
   "id": "fa28c59a",
   "metadata": {},
   "outputs": [],
   "source": [
    "import tensorflow as tf\n",
    "import tensorflow_datasets as tfds\n",
    "import os\n",
    "import re\n",
    "import numpy as np\n",
    "import matplotlib.pyplot as plt\n",
    "import pandas as pd"
   ]
  },
  {
   "cell_type": "code",
   "execution_count": 326,
   "id": "0f6495ab",
   "metadata": {},
   "outputs": [],
   "source": [
    "data = pd.read_csv(\"./data/ChatbotData .csv\")"
   ]
  },
  {
   "cell_type": "code",
   "execution_count": 327,
   "id": "a4cf6374",
   "metadata": {},
   "outputs": [
    {
     "name": "stdout",
     "output_type": "stream",
     "text": [
      "11823\n"
     ]
    },
    {
     "data": {
      "text/html": [
       "<div>\n",
       "<style scoped>\n",
       "    .dataframe tbody tr th:only-of-type {\n",
       "        vertical-align: middle;\n",
       "    }\n",
       "\n",
       "    .dataframe tbody tr th {\n",
       "        vertical-align: top;\n",
       "    }\n",
       "\n",
       "    .dataframe thead th {\n",
       "        text-align: right;\n",
       "    }\n",
       "</style>\n",
       "<table border=\"1\" class=\"dataframe\">\n",
       "  <thead>\n",
       "    <tr style=\"text-align: right;\">\n",
       "      <th></th>\n",
       "      <th>Q</th>\n",
       "      <th>A</th>\n",
       "      <th>label</th>\n",
       "    </tr>\n",
       "  </thead>\n",
       "  <tbody>\n",
       "    <tr>\n",
       "      <th>0</th>\n",
       "      <td>12시 땡!</td>\n",
       "      <td>하루가 또 가네요.</td>\n",
       "      <td>0</td>\n",
       "    </tr>\n",
       "    <tr>\n",
       "      <th>1</th>\n",
       "      <td>1지망 학교 떨어졌어</td>\n",
       "      <td>위로해 드립니다.</td>\n",
       "      <td>0</td>\n",
       "    </tr>\n",
       "    <tr>\n",
       "      <th>2</th>\n",
       "      <td>3박4일 놀러가고 싶다</td>\n",
       "      <td>여행은 언제나 좋죠.</td>\n",
       "      <td>0</td>\n",
       "    </tr>\n",
       "    <tr>\n",
       "      <th>3</th>\n",
       "      <td>3박4일 정도 놀러가고 싶다</td>\n",
       "      <td>여행은 언제나 좋죠.</td>\n",
       "      <td>0</td>\n",
       "    </tr>\n",
       "    <tr>\n",
       "      <th>4</th>\n",
       "      <td>PPL 심하네</td>\n",
       "      <td>눈살이 찌푸려지죠.</td>\n",
       "      <td>0</td>\n",
       "    </tr>\n",
       "  </tbody>\n",
       "</table>\n",
       "</div>"
      ],
      "text/plain": [
       "                 Q            A  label\n",
       "0           12시 땡!   하루가 또 가네요.      0\n",
       "1      1지망 학교 떨어졌어    위로해 드립니다.      0\n",
       "2     3박4일 놀러가고 싶다  여행은 언제나 좋죠.      0\n",
       "3  3박4일 정도 놀러가고 싶다  여행은 언제나 좋죠.      0\n",
       "4          PPL 심하네   눈살이 찌푸려지죠.      0"
      ]
     },
     "execution_count": 327,
     "metadata": {},
     "output_type": "execute_result"
    }
   ],
   "source": [
    "print(len(data))\n",
    "data.head()"
   ]
  },
  {
   "cell_type": "code",
   "execution_count": 328,
   "id": "cfacbc8b",
   "metadata": {},
   "outputs": [],
   "source": [
    "question = [sentence for sentence in data[\"Q\"]]\n",
    "answer = [sentence for sentence in data[\"A\"]]"
   ]
  },
  {
   "cell_type": "code",
   "execution_count": 329,
   "id": "fc9938c1",
   "metadata": {},
   "outputs": [],
   "source": [
    "#구두점 분리\n",
    "#ㅋㅋㅋㅋㅋㅋㅋ, ㅎㅎㅎㅎㅎ, ㅠㅠㅠㅠㅠㅠ, ㅜㅜㅜ 두개로 통일\n",
    "#!!!, ~~~~, ;;;; 하나로 통일\n",
    "#큰따움표제거\n",
    "#영어 소문자 변경\n",
    "\n",
    "def preprocessing(sentences):\n",
    "    s = []\n",
    "    for sentence in sentences:\n",
    "        temp = sentence.lower().strip()\n",
    "        temp = re.sub(\"ㅋ+\", \" ㅋㅋ\", temp)\n",
    "        temp = re.sub(\"ㅎ+\", \" ㅎㅎ\", temp)\n",
    "        temp = re.sub(\"ㅜ+\", \" ㅜㅜ\", temp)\n",
    "        temp = re.sub(\"ㅠ+\", \" ㅠㅠ\", temp)\n",
    "        temp = re.sub(r\"!+\", \"!\", temp)\n",
    "        temp = re.sub(r\"~+\", \"~\", temp)\n",
    "        temp = re.sub(r\";+\", \";\", temp)\n",
    "        temp = re.sub(r\"\\\"\", \"\", temp)\n",
    "        temp = re.sub(r\"([.,!?~;])\", r\" \\1\", temp)\n",
    "        s.append(temp)\n",
    "    return s"
   ]
  },
  {
   "cell_type": "code",
   "execution_count": 330,
   "id": "afc9172a",
   "metadata": {},
   "outputs": [
    {
     "name": "stdout",
     "output_type": "stream",
     "text": [
      "하~~~~~;;;;;;;;;;오늘ㅋㅋㅋㅋㅋㅋㅋㅋㅎㅎㅎㅎㅎㅠ!!!!!!!!!!!!~~~~~\n",
      "하 ~ ;오늘 ㅋㅋ ㅎㅎ ㅠㅠ ! ~\n"
     ]
    }
   ],
   "source": [
    "print(\"하~~~~~;;;;;;;;;;오늘ㅋㅋㅋㅋㅋㅋㅋㅋㅎㅎㅎㅎㅎㅠ!!!!!!!!!!!!~~~~~\")\n",
    "print(\" \".join(preprocessing([\"하~~~~~;;;;;;;;;;오늘ㅋㅋㅋㅋㅋㅋㅋㅋㅎㅎㅎㅎㅎㅠ!!!!!!!!!!!!~~~~~\"])))"
   ]
  },
  {
   "cell_type": "code",
   "execution_count": 331,
   "id": "47fad230",
   "metadata": {},
   "outputs": [
    {
     "name": "stdout",
     "output_type": "stream",
     "text": [
      "['12시 땡 !', '1지망 학교 떨어졌어', '3박4일 놀러가고 싶다', '3박4일 정도 놀러가고 싶다', 'ppl 심하네', 'sd카드 망가졌어', 'sd카드 안돼', 'sns 맞팔 왜 안하지 ㅠㅠ', 'sns 시간낭비인 거 아는데 매일 하는 중', 'sns 시간낭비인데 자꾸 보게됨']\n"
     ]
    }
   ],
   "source": [
    "question = preprocessing(question)\n",
    "answer = preprocessing(answer)\n",
    "\n",
    "print(question[:10])"
   ]
  },
  {
   "cell_type": "code",
   "execution_count": 332,
   "id": "d41a6b8c",
   "metadata": {},
   "outputs": [
    {
     "data": {
      "image/png": "[encoded data removed]",
      "text/plain": [
       "<Figure size 432x288 with 1 Axes>"
      ]
     },
     "metadata": {
      "needs_background": "light"
     },
     "output_type": "display_data"
    },
    {
     "data": {
      "image/png": "[encoded data removed]",
      "text/plain": [
       "<Figure size 432x288 with 1 Axes>"
      ]
     },
     "metadata": {
      "needs_background": "light"
     },
     "output_type": "display_data"
    },
    {
     "name": "stdout",
     "output_type": "stream",
     "text": [
      "질문의 최소 길이 : 1\n",
      "질문의 최대 길이 : 57\n",
      "질문의 평균 길이 : 13.236319039160957\n",
      "응답의 최소 길이 : 1\n",
      "응답의 최대 길이 : 78\n",
      "응답의 평균 길이 : 16.03603146409541\n"
     ]
    }
   ],
   "source": [
    "question_len = [len(s) for s in question]\n",
    "answer_len = [len(s) for s in answer]\n",
    "\n",
    "plt.title('question')\n",
    "plt.hist(question_len, bins = 40)\n",
    "plt.xlabel('length of samples')\n",
    "plt.ylabel('number of samples')\n",
    "plt.show()\n",
    "\n",
    "plt.title('answer')\n",
    "plt.hist(answer_len, bins = 40)\n",
    "plt.xlabel('length of samples')\n",
    "plt.ylabel('number of samples')\n",
    "plt.show()\n",
    "\n",
    "print('질문의 최소 길이 : {}'.format(np.min(question_len)))\n",
    "print('질문의 최대 길이 : {}'.format(np.max(question_len)))\n",
    "print('질문의 평균 길이 : {}'.format(np.mean(question_len)))\n",
    "print('응답의 최소 길이 : {}'.format(np.min(answer_len)))\n",
    "print('응답의 최대 길이 : {}'.format(np.max(answer_len)))\n",
    "print('응답의 평균 길이 : {}'.format(np.mean(answer_len)))"
   ]
  },
  {
   "cell_type": "code",
   "execution_count": 333,
   "id": "9aede09c",
   "metadata": {},
   "outputs": [],
   "source": [
    "max_len = 40\n",
    "min_len = 1"
   ]
  },
  {
   "cell_type": "code",
   "execution_count": 334,
   "id": "19585262",
   "metadata": {
    "scrolled": false
   },
   "outputs": [
    {
     "name": "stdout",
     "output_type": "stream",
     "text": [
      "21824\n"
     ]
    }
   ],
   "source": [
    "tokenizer = tfds.deprecated.text.SubwordTextEncoder.build_from_corpus(question + answer, target_vocab_size=2<<14)\n",
    "print(tokenizer.vocab_size)"
   ]
  },
  {
   "cell_type": "code",
   "execution_count": 335,
   "id": "e526e185",
   "metadata": {},
   "outputs": [
    {
     "name": "stdout",
     "output_type": "stream",
     "text": [
      "START_TOKEN의 번호 : [21824]\n",
      "END_TOKEN의 번호 : [21825]\n"
     ]
    }
   ],
   "source": [
    "START_TOKEN, END_TOKEN = [tokenizer.vocab_size], [tokenizer.vocab_size + 1]\n",
    "\n",
    "print('START_TOKEN의 번호 :' ,[tokenizer.vocab_size])\n",
    "print('END_TOKEN의 번호 :' ,[tokenizer.vocab_size + 1])\n",
    "\n",
    "VOCAB_SIZE = tokenizer.vocab_size + 2"
   ]
  },
  {
   "cell_type": "code",
   "execution_count": 336,
   "id": "55f81c7e",
   "metadata": {
    "scrolled": false
   },
   "outputs": [],
   "source": [
    "encoder_input = []\n",
    "decoder_input = []\n",
    "decoder_output = []\n",
    "\n",
    "for (encoder_data, decoder_data) in zip(question, answer):\n",
    "    if (len(encoder_data) > min_len and len(encoder_data) <= max_len) and (len(decoder_data) > min_len and len(decoder_data) <= max_len):\n",
    "        encoder_input.append(START_TOKEN + tokenizer.encode(encoder_data) + END_TOKEN)\n",
    "        decoder_input.append(START_TOKEN + tokenizer.encode(decoder_data) + END_TOKEN)\n",
    "        decoder_output.append(tokenizer.encode(decoder_data) + END_TOKEN)\n",
    "        \n",
    "encoder_input = tf.keras.preprocessing.sequence.pad_sequences(encoder_input, maxlen=max_len, padding=\"post\")\n",
    "decoder_input = tf.keras.preprocessing.sequence.pad_sequences(decoder_input, maxlen=max_len-1, padding=\"post\")\n",
    "decoder_output = tf.keras.preprocessing.sequence.pad_sequences(decoder_output, maxlen=max_len-1, padding=\"post\")\n"
   ]
  },
  {
   "cell_type": "code",
   "execution_count": 337,
   "id": "fd37f9c8",
   "metadata": {},
   "outputs": [],
   "source": [
    "BATCH_SIZE = 256\n",
    "BUFFER_SIZE = 11823\n",
    "\n",
    "dataset = tf.data.Dataset.from_tensor_slices(((encoder_input, decoder_input), decoder_output))\n",
    "\n",
    "dataset = dataset.cache()\n",
    "dataset = dataset.shuffle(BUFFER_SIZE)\n",
    "dataset = dataset.batch(BATCH_SIZE)\n",
    "dataset = dataset.prefetch(tf.data.experimental.AUTOTUNE)"
   ]
  },
  {
   "cell_type": "code",
   "execution_count": 338,
   "id": "02ff1bef",
   "metadata": {},
   "outputs": [],
   "source": [
    "class PositionalEncoding(tf.keras.layers.Layer):\n",
    "    def __init__(self, position, d_model):\n",
    "        super(PositionalEncoding, self).__init__()\n",
    "        self.pos_encoding = self.positional_encoding(position, d_model)\n",
    "\n",
    "        \n",
    "    def get_angles(self, position, i, d_model):\n",
    "        angles = 1 / tf.pow(10000, (2 * (i // 2)) / tf.cast(d_model, tf.float32))\n",
    "        return position * angles\n",
    "\n",
    "    \n",
    "    def positional_encoding(self, position, d_model):\n",
    "        angle_rads = self.get_angles(position=tf.range(position, dtype=tf.float32)[:, tf.newaxis],\n",
    "                                     i=tf.range(d_model, dtype=tf.float32)[tf.newaxis, :],\n",
    "                                     d_model=d_model)\n",
    "\n",
    "        sines = tf.math.sin(angle_rads[:, 0::2])\n",
    "        cosines = tf.math.cos(angle_rads[:, 1::2])\n",
    "    \n",
    "        pos_encoding = tf.stack([sines, cosines], axis=0)\n",
    "        pos_encoding = tf.transpose(pos_encoding,[1, 2, 0]) \n",
    "        pos_encoding = tf.reshape(pos_encoding, [position, d_model])\n",
    "\n",
    "        pos_encoding = pos_encoding[tf.newaxis, ...]\n",
    "        return tf.cast(pos_encoding, tf.float32)\n",
    "\n",
    "    def call(self, inputs):\n",
    "        return inputs + self.pos_encoding[:, :tf.shape(inputs)[1], :]"
   ]
  },
  {
   "cell_type": "code",
   "execution_count": 339,
   "id": "a45f3eeb",
   "metadata": {},
   "outputs": [],
   "source": [
    "def scaled_dot_product_attention(query, key, value, mask):\n",
    "    matmul_qk = tf.matmul(query, key, transpose_b=True)\n",
    "\n",
    "    depth = tf.cast(tf.shape(key)[-1], tf.float32)\n",
    "    logits = matmul_qk / tf.math.sqrt(depth)\n",
    "\n",
    "    if mask is not None:\n",
    "        logits += (mask * -1e9)\n",
    "\n",
    "    attention_weights = tf.nn.softmax(logits, axis=-1)\n",
    "\n",
    "    output = tf.matmul(attention_weights, value)\n",
    "    return output"
   ]
  },
  {
   "cell_type": "code",
   "execution_count": 340,
   "id": "ae60cb33",
   "metadata": {},
   "outputs": [],
   "source": [
    "class MultiHeadAttention(tf.keras.layers.Layer):\n",
    "    def __init__(self, d_model, num_heads, name=\"multi_head_attention\"):\n",
    "        super(MultiHeadAttention, self).__init__(name=name)\n",
    "        self.num_heads = num_heads\n",
    "        self.d_model = d_model\n",
    "\n",
    "        assert d_model % self.num_heads == 0\n",
    "\n",
    "        self.depth = d_model // self.num_heads\n",
    "\n",
    "        self.query_dense = tf.keras.layers.Dense(units=d_model)\n",
    "        self.key_dense = tf.keras.layers.Dense(units=d_model)\n",
    "        self.value_dense = tf.keras.layers.Dense(units=d_model)\n",
    "\n",
    "        self.dense = tf.keras.layers.Dense(units=d_model)\n",
    "\n",
    "        \n",
    "    def split_heads(self, inputs, batch_size):\n",
    "        inputs = tf.reshape(inputs, shape=(batch_size, -1, self.num_heads, self.depth))\n",
    "        return tf.transpose(inputs, perm=[0, 2, 1, 3])\n",
    "\n",
    "    \n",
    "    def call(self, inputs):\n",
    "        query, key, value, mask = inputs['query'], inputs['key'], inputs['value'], inputs['mask']\n",
    "        batch_size = tf.shape(query)[0]\n",
    "\n",
    "        query = self.query_dense(query)\n",
    "        key = self.key_dense(key)\n",
    "        value = self.value_dense(value)\n",
    "\n",
    "        query = self.split_heads(query, batch_size)\n",
    "        key = self.split_heads(key, batch_size)\n",
    "        value = self.split_heads(value, batch_size)\n",
    "\n",
    "        scaled_attention = scaled_dot_product_attention(query, key, value, mask)\n",
    "\n",
    "        scaled_attention = tf.transpose(scaled_attention, perm=[0, 2, 1, 3])\n",
    "\n",
    "        concat_attention = tf.reshape(scaled_attention, (batch_size, -1, self.d_model))\n",
    "\n",
    "        outputs = self.dense(concat_attention)\n",
    "\n",
    "        return outputs"
   ]
  },
  {
   "cell_type": "code",
   "execution_count": 341,
   "id": "02d40bdc",
   "metadata": {},
   "outputs": [],
   "source": [
    "def create_padding_mask(x):\n",
    "    mask = tf.cast(tf.math.equal(x, 0), tf.float32)\n",
    "    return mask[:, tf.newaxis, tf.newaxis, :]\n",
    "\n",
    "def create_look_ahead_mask(x):\n",
    "    seq_len = tf.shape(x)[1]\n",
    "    look_ahead_mask = 1 - tf.linalg.band_part(tf.ones((seq_len, seq_len)), -1, 0)\n",
    "    padding_mask = create_padding_mask(x)\n",
    "    return tf.maximum(look_ahead_mask, padding_mask)"
   ]
  },
  {
   "cell_type": "code",
   "execution_count": 342,
   "id": "9a190641",
   "metadata": {},
   "outputs": [],
   "source": [
    "def encoder_layer(units, d_model, num_heads, dropout, name=\"encoder_layer\"):\n",
    "    inputs = tf.keras.Input(shape=(None, d_model), name=\"inputs\")\n",
    "\n",
    "    padding_mask = tf.keras.Input(shape=(1, 1, None), name=\"padding_mask\")\n",
    "\n",
    "    attention = MultiHeadAttention(d_model, num_heads, name=\"attention\")({\n",
    "        'query': inputs,\n",
    "        'key': inputs,\n",
    "        'value': inputs,\n",
    "        'mask': padding_mask\n",
    "    })\n",
    "\n",
    "    attention = tf.keras.layers.Dropout(rate=dropout)(attention)\n",
    "    attention = tf.keras.layers.LayerNormalization(epsilon=1e-6)(inputs + attention)\n",
    "\n",
    "    outputs = tf.keras.layers.Dense(units=units, activation='relu')(attention)\n",
    "    outputs = tf.keras.layers.Dense(units=d_model)(outputs)\n",
    "\n",
    "    outputs = tf.keras.layers.Dropout(rate=dropout)(outputs)\n",
    "    outputs = tf.keras.layers.LayerNormalization(epsilon=1e-6)(attention + outputs)\n",
    "\n",
    "    return tf.keras.Model(inputs=[inputs, padding_mask], outputs=outputs, name=name)"
   ]
  },
  {
   "cell_type": "code",
   "execution_count": 343,
   "id": "5fb19352",
   "metadata": {},
   "outputs": [],
   "source": [
    "def encoder(vocab_size,\n",
    "            num_layers,\n",
    "            units,\n",
    "            d_model,\n",
    "            num_heads,\n",
    "            dropout,\n",
    "            name=\"encoder\"):\n",
    "    inputs = tf.keras.Input(shape=(None,), name=\"inputs\")\n",
    "\n",
    "    padding_mask = tf.keras.Input(shape=(1, 1, None), name=\"padding_mask\")\n",
    "\n",
    "    embeddings = tf.keras.layers.Embedding(vocab_size, d_model)(inputs)\n",
    "    embeddings *= tf.math.sqrt(tf.cast(d_model, tf.float32))\n",
    "    embeddings = PositionalEncoding(vocab_size, d_model)(embeddings)\n",
    "\n",
    "    outputs = tf.keras.layers.Dropout(rate=dropout)(embeddings)\n",
    "\n",
    "    for i in range(num_layers):\n",
    "        outputs = encoder_layer(units=units,\n",
    "                                d_model=d_model, \n",
    "                                num_heads=num_heads,\n",
    "                                dropout=dropout,\n",
    "                                name=\"encoder_layer_{}\".format(i),)([outputs, padding_mask])\n",
    "\n",
    "    return tf.keras.Model(inputs=[inputs, padding_mask], outputs=outputs, name=name)"
   ]
  },
  {
   "cell_type": "code",
   "execution_count": 344,
   "id": "c1d4edab",
   "metadata": {},
   "outputs": [],
   "source": [
    "def decoder_layer(units, d_model, num_heads, dropout, name=\"decoder_layer\"):\n",
    "    inputs = tf.keras.Input(shape=(None, d_model), name=\"inputs\")\n",
    "    enc_outputs = tf.keras.Input(shape=(None, d_model), name=\"encoder_outputs\")\n",
    "    look_ahead_mask = tf.keras.Input(shape=(1, None, None), name=\"look_ahead_mask\")\n",
    "    padding_mask = tf.keras.Input(shape=(1, 1, None), name='padding_mask')\n",
    "\n",
    "    attention1 = MultiHeadAttention(d_model, num_heads, name=\"attention_1\")(inputs={'query': inputs,\n",
    "                                                                                    'key': inputs,\n",
    "                                                                                    'value': inputs, \n",
    "                                                                                    'mask': look_ahead_mask})\n",
    "\n",
    "    attention1 = tf.keras.layers.LayerNormalization(epsilon=1e-6)(attention1 + inputs)\n",
    "\n",
    "    attention2 = MultiHeadAttention(d_model, num_heads, name=\"attention_2\")(inputs={'query': attention1,\n",
    "                                                                                    'key': enc_outputs,\n",
    "                                                                                    'value': enc_outputs,\n",
    "                                                                                    'mask': padding_mask})\n",
    "\n",
    "    attention2 = tf.keras.layers.Dropout(rate=dropout)(attention2)\n",
    "    attention2 = tf.keras.layers.LayerNormalization(epsilon=1e-6)(attention2 + attention1)\n",
    "\n",
    "    outputs = tf.keras.layers.Dense(units=units, activation='relu')(attention2)\n",
    "    outputs = tf.keras.layers.Dense(units=d_model)(outputs)\n",
    "\n",
    "    outputs = tf.keras.layers.Dropout(rate=dropout)(outputs)\n",
    "    outputs = tf.keras.layers.LayerNormalization(epsilon=1e-6)(outputs + attention2)\n",
    "\n",
    "    return tf.keras.Model(inputs=[inputs, enc_outputs, look_ahead_mask, padding_mask],\n",
    "                          outputs=outputs,\n",
    "                          name=name)"
   ]
  },
  {
   "cell_type": "code",
   "execution_count": 345,
   "id": "03c997ad",
   "metadata": {},
   "outputs": [],
   "source": [
    "def decoder(vocab_size,\n",
    "            num_layers,\n",
    "            units,\n",
    "            d_model,\n",
    "            num_heads,\n",
    "            dropout,\n",
    "            name='decoder'):\n",
    "    inputs = tf.keras.Input(shape=(None,), name='inputs')\n",
    "    enc_outputs = tf.keras.Input(shape=(None, d_model), name='encoder_outputs')\n",
    "    look_ahead_mask = tf.keras.Input(shape=(1, None, None), name='look_ahead_mask')\n",
    "\n",
    "    padding_mask = tf.keras.Input(shape=(1, 1, None), name='padding_mask')\n",
    "  \n",
    "    embeddings = tf.keras.layers.Embedding(vocab_size, d_model)(inputs)\n",
    "    embeddings *= tf.math.sqrt(tf.cast(d_model, tf.float32))\n",
    "\n",
    "    embeddings = PositionalEncoding(vocab_size, d_model)(embeddings)\n",
    "\n",
    "    outputs = tf.keras.layers.Dropout(rate=dropout)(embeddings)\n",
    "\n",
    "    for i in range(num_layers):\n",
    "        outputs = decoder_layer(units=units,\n",
    "                                d_model=d_model,\n",
    "                                num_heads=num_heads,\n",
    "                                dropout=dropout,\n",
    "                                name='decoder_layer_{}'.format(i),)(inputs=[outputs, enc_outputs, look_ahead_mask, padding_mask])\n",
    "\n",
    "    return tf.keras.Model(inputs=[inputs, enc_outputs, look_ahead_mask, padding_mask],\n",
    "                          outputs=outputs,\n",
    "                          name=name)"
   ]
  },
  {
   "cell_type": "code",
   "execution_count": 346,
   "id": "82d047af",
   "metadata": {},
   "outputs": [],
   "source": [
    "def transformer(vocab_size, num_layers, units, d_model, num_heads, dropout, name=\"transformer\"):\n",
    "    inputs = tf.keras.Input(shape=(None,), name=\"inputs\")\n",
    "    dec_inputs = tf.keras.Input(shape=(None,), name=\"dec_inputs\")\n",
    "\n",
    "    enc_padding_mask = tf.keras.layers.Lambda(create_padding_mask, \n",
    "                                              output_shape=(1, 1, None), \n",
    "                                              name='enc_padding_mask')(inputs)\n",
    "\n",
    "    look_ahead_mask = tf.keras.layers.Lambda(create_look_ahead_mask,\n",
    "                                             output_shape=(1, None, None),\n",
    "                                             name='look_ahead_mask')(dec_inputs)\n",
    "\n",
    "    dec_padding_mask = tf.keras.layers.Lambda(create_padding_mask, \n",
    "                                              output_shape=(1, 1, None),\n",
    "                                              name='dec_padding_mask')(inputs)\n",
    "\n",
    "    enc_outputs = encoder(vocab_size=vocab_size,\n",
    "                          num_layers=num_layers,\n",
    "                          units=units,\n",
    "                          d_model=d_model,\n",
    "                          num_heads=num_heads,\n",
    "                          dropout=dropout,)(inputs=[inputs, enc_padding_mask])\n",
    "\n",
    "    dec_outputs = decoder(vocab_size=vocab_size,\n",
    "                          num_layers=num_layers,\n",
    "                          units=units,\n",
    "                          d_model=d_model,\n",
    "                          num_heads=num_heads,\n",
    "                          dropout=dropout,)(inputs=[dec_inputs, enc_outputs, look_ahead_mask, dec_padding_mask])\n",
    "\n",
    "\n",
    "    outputs = tf.keras.layers.Dense(units=vocab_size, name=\"outputs\")(dec_outputs)\n",
    "\n",
    "    return tf.keras.Model(inputs=[inputs, dec_inputs], outputs=outputs, name=name)"
   ]
  },
  {
   "cell_type": "code",
   "execution_count": 347,
   "id": "e6d58658",
   "metadata": {},
   "outputs": [
    {
     "name": "stdout",
     "output_type": "stream",
     "text": [
      "Model: \"transformer\"\n",
      "__________________________________________________________________________________________________\n",
      "Layer (type)                    Output Shape         Param #     Connected to                     \n",
      "==================================================================================================\n",
      "inputs (InputLayer)             [(None, None)]       0                                            \n",
      "__________________________________________________________________________________________________\n",
      "dec_inputs (InputLayer)         [(None, None)]       0                                            \n",
      "__________________________________________________________________________________________________\n",
      "enc_padding_mask (Lambda)       (None, 1, 1, None)   0           inputs[0][0]                     \n",
      "__________________________________________________________________________________________________\n",
      "encoder (Functional)            (None, None, 256)    7695872     inputs[0][0]                     \n",
      "                                                                 enc_padding_mask[0][0]           \n",
      "__________________________________________________________________________________________________\n",
      "look_ahead_mask (Lambda)        (None, 1, None, None 0           dec_inputs[0][0]                 \n",
      "__________________________________________________________________________________________________\n",
      "dec_padding_mask (Lambda)       (None, 1, 1, None)   0           inputs[0][0]                     \n",
      "__________________________________________________________________________________________________\n",
      "decoder (Functional)            (None, None, 256)    8750592     dec_inputs[0][0]                 \n",
      "                                                                 encoder[0][0]                    \n",
      "                                                                 look_ahead_mask[0][0]            \n",
      "                                                                 dec_padding_mask[0][0]           \n",
      "__________________________________________________________________________________________________\n",
      "outputs (Dense)                 (None, None, 21826)  5609282     decoder[0][0]                    \n",
      "==================================================================================================\n",
      "Total params: 22,055,746\n",
      "Trainable params: 22,055,746\n",
      "Non-trainable params: 0\n",
      "__________________________________________________________________________________________________\n"
     ]
    }
   ],
   "source": [
    "tf.keras.backend.clear_session()\n",
    "\n",
    "NUM_LAYERS = 4\n",
    "D_MODEL = 256\n",
    "NUM_HEADS = 8\n",
    "UNITS = 512\n",
    "DROPOUT = 0.2\n",
    "\n",
    "model = transformer(\n",
    "    vocab_size=VOCAB_SIZE,\n",
    "    num_layers=NUM_LAYERS,\n",
    "    units=UNITS,\n",
    "    d_model=D_MODEL,\n",
    "    num_heads=NUM_HEADS,\n",
    "    dropout=DROPOUT)\n",
    "\n",
    "model.summary()"
   ]
  },
  {
   "cell_type": "code",
   "execution_count": 348,
   "id": "af60ee38",
   "metadata": {},
   "outputs": [],
   "source": [
    "def loss_function(y_true, y_pred):\n",
    "    y_true = tf.reshape(y_true, shape=(-1, max_len-1))\n",
    "  \n",
    "    loss = tf.keras.losses.SparseCategoricalCrossentropy(from_logits=True, reduction='none')(y_true, y_pred)\n",
    "    mask = tf.cast(tf.not_equal(y_true, 0), tf.float32)\n",
    "    loss = tf.multiply(loss, mask)\n",
    "\n",
    "    return tf.reduce_mean(loss)"
   ]
  },
  {
   "cell_type": "code",
   "execution_count": 349,
   "id": "2e38f941",
   "metadata": {},
   "outputs": [],
   "source": [
    "class CustomSchedule(tf.keras.optimizers.schedules.LearningRateSchedule):\n",
    "\n",
    "    def __init__(self, d_model, warmup_steps=4000):\n",
    "        super(CustomSchedule, self).__init__()\n",
    "\n",
    "        self.d_model = d_model\n",
    "        self.d_model = tf.cast(self.d_model, tf.float32)\n",
    "\n",
    "        self.warmup_steps = warmup_steps\n",
    "\n",
    "    def __call__(self, step):\n",
    "        arg1 = tf.math.rsqrt(step)\n",
    "        arg2 = step * (self.warmup_steps**-1.5)\n",
    "\n",
    "        return tf.math.rsqrt(self.d_model) * tf.math.minimum(arg1, arg2)\n",
    "    \n",
    "sample_learning_rate = CustomSchedule(d_model=128)"
   ]
  },
  {
   "cell_type": "code",
   "execution_count": 350,
   "id": "fd36fa72",
   "metadata": {},
   "outputs": [],
   "source": [
    "learning_rate = CustomSchedule(D_MODEL)\n",
    "\n",
    "optimizer = tf.keras.optimizers.Adam(learning_rate, beta_1=0.9, beta_2=0.98, epsilon=1e-9)\n",
    "\n",
    "def accuracy(y_true, y_pred):\n",
    "    y_true = tf.reshape(y_true, shape=(-1, max_len-1))\n",
    "    return tf.keras.metrics.sparse_categorical_accuracy(y_true, y_pred)\n",
    "\n",
    "model.compile(optimizer=optimizer, loss=loss_function, metrics=[accuracy])"
   ]
  },
  {
   "cell_type": "code",
   "execution_count": 351,
   "id": "46ea1b48",
   "metadata": {
    "scrolled": false
   },
   "outputs": [
    {
     "name": "stdout",
     "output_type": "stream",
     "text": [
      "Epoch 1/100\n",
      "46/46 [==============================] - 28s 384ms/step - loss: 1.4338 - accuracy: 0.0055\n",
      "Epoch 2/100\n",
      "46/46 [==============================] - 17s 377ms/step - loss: 1.3752 - accuracy: 0.0260\n",
      "Epoch 3/100\n",
      "46/46 [==============================] - 17s 370ms/step - loss: 1.3231 - accuracy: 0.0258\n",
      "Epoch 4/100\n",
      "46/46 [==============================] - 17s 369ms/step - loss: 1.2627 - accuracy: 0.0257\n",
      "Epoch 5/100\n",
      "46/46 [==============================] - 17s 373ms/step - loss: 1.1847 - accuracy: 0.0396\n",
      "Epoch 6/100\n",
      "46/46 [==============================] - 17s 374ms/step - loss: 1.0983 - accuracy: 0.0494\n",
      "Epoch 7/100\n",
      "46/46 [==============================] - 17s 372ms/step - loss: 1.0179 - accuracy: 0.0498\n",
      "Epoch 8/100\n",
      "46/46 [==============================] - 17s 371ms/step - loss: 0.9453 - accuracy: 0.0500\n",
      "Epoch 9/100\n",
      "46/46 [==============================] - 17s 372ms/step - loss: 0.8848 - accuracy: 0.0500\n",
      "Epoch 10/100\n",
      "46/46 [==============================] - 17s 372ms/step - loss: 0.8353 - accuracy: 0.0500\n",
      "Epoch 11/100\n",
      "46/46 [==============================] - 17s 373ms/step - loss: 0.7971 - accuracy: 0.0501\n",
      "Epoch 12/100\n",
      "46/46 [==============================] - 17s 373ms/step - loss: 0.7675 - accuracy: 0.0508\n",
      "Epoch 13/100\n",
      "46/46 [==============================] - 17s 372ms/step - loss: 0.7444 - accuracy: 0.0521\n",
      "Epoch 14/100\n",
      "46/46 [==============================] - 17s 372ms/step - loss: 0.7257 - accuracy: 0.0527\n",
      "Epoch 15/100\n",
      "46/46 [==============================] - 17s 372ms/step - loss: 0.7096 - accuracy: 0.0534\n",
      "Epoch 16/100\n",
      "46/46 [==============================] - 17s 372ms/step - loss: 0.6952 - accuracy: 0.0541\n",
      "Epoch 17/100\n",
      "46/46 [==============================] - 17s 372ms/step - loss: 0.6823 - accuracy: 0.0548\n",
      "Epoch 18/100\n",
      "46/46 [==============================] - 17s 372ms/step - loss: 0.6689 - accuracy: 0.0555\n",
      "Epoch 19/100\n",
      "46/46 [==============================] - 17s 373ms/step - loss: 0.6559 - accuracy: 0.0559\n",
      "Epoch 20/100\n",
      "46/46 [==============================] - 17s 373ms/step - loss: 0.6427 - accuracy: 0.0565\n",
      "Epoch 21/100\n",
      "46/46 [==============================] - 17s 372ms/step - loss: 0.6295 - accuracy: 0.0571\n",
      "Epoch 22/100\n",
      "46/46 [==============================] - 17s 372ms/step - loss: 0.6149 - accuracy: 0.0580\n",
      "Epoch 23/100\n",
      "46/46 [==============================] - 17s 372ms/step - loss: 0.6010 - accuracy: 0.0589\n",
      "Epoch 24/100\n",
      "46/46 [==============================] - 17s 375ms/step - loss: 0.5850 - accuracy: 0.0597\n",
      "Epoch 25/100\n",
      "46/46 [==============================] - 17s 374ms/step - loss: 0.5674 - accuracy: 0.0612\n",
      "Epoch 26/100\n",
      "46/46 [==============================] - 17s 372ms/step - loss: 0.5493 - accuracy: 0.0626\n",
      "Epoch 27/100\n",
      "46/46 [==============================] - 17s 373ms/step - loss: 0.5306 - accuracy: 0.0643\n",
      "Epoch 28/100\n",
      "46/46 [==============================] - 17s 373ms/step - loss: 0.5108 - accuracy: 0.0661\n",
      "Epoch 29/100\n",
      "46/46 [==============================] - 17s 373ms/step - loss: 0.4904 - accuracy: 0.0683\n",
      "Epoch 30/100\n",
      "46/46 [==============================] - 17s 374ms/step - loss: 0.4690 - accuracy: 0.0706\n",
      "Epoch 31/100\n",
      "46/46 [==============================] - 17s 373ms/step - loss: 0.4460 - accuracy: 0.0732\n",
      "Epoch 32/100\n",
      "46/46 [==============================] - 17s 372ms/step - loss: 0.4239 - accuracy: 0.0757\n",
      "Epoch 33/100\n",
      "46/46 [==============================] - 17s 375ms/step - loss: 0.4006 - accuracy: 0.0788\n",
      "Epoch 34/100\n",
      "46/46 [==============================] - 17s 374ms/step - loss: 0.3773 - accuracy: 0.0820\n",
      "Epoch 35/100\n",
      "46/46 [==============================] - 17s 373ms/step - loss: 0.3539 - accuracy: 0.0852\n",
      "Epoch 36/100\n",
      "46/46 [==============================] - 17s 373ms/step - loss: 0.3302 - accuracy: 0.0888\n",
      "Epoch 37/100\n",
      "46/46 [==============================] - 17s 373ms/step - loss: 0.3070 - accuracy: 0.0924\n",
      "Epoch 38/100\n",
      "46/46 [==============================] - 17s 374ms/step - loss: 0.2846 - accuracy: 0.0952\n",
      "Epoch 39/100\n",
      "46/46 [==============================] - 17s 373ms/step - loss: 0.2623 - accuracy: 0.0985\n",
      "Epoch 40/100\n",
      "46/46 [==============================] - 17s 374ms/step - loss: 0.2405 - accuracy: 0.1020\n",
      "Epoch 41/100\n",
      "46/46 [==============================] - 17s 374ms/step - loss: 0.2202 - accuracy: 0.1050\n",
      "Epoch 42/100\n",
      "46/46 [==============================] - 17s 374ms/step - loss: 0.1998 - accuracy: 0.1083\n",
      "Epoch 43/100\n",
      "46/46 [==============================] - 17s 374ms/step - loss: 0.1812 - accuracy: 0.1114\n",
      "Epoch 44/100\n",
      "46/46 [==============================] - 17s 374ms/step - loss: 0.1641 - accuracy: 0.1143\n",
      "Epoch 45/100\n",
      "46/46 [==============================] - 17s 374ms/step - loss: 0.1473 - accuracy: 0.1173\n",
      "Epoch 46/100\n",
      "46/46 [==============================] - 17s 374ms/step - loss: 0.1315 - accuracy: 0.1201\n",
      "Epoch 47/100\n",
      "46/46 [==============================] - 17s 374ms/step - loss: 0.1164 - accuracy: 0.1232\n",
      "Epoch 48/100\n",
      "46/46 [==============================] - 17s 374ms/step - loss: 0.1038 - accuracy: 0.1256\n",
      "Epoch 49/100\n",
      "46/46 [==============================] - 17s 373ms/step - loss: 0.0918 - accuracy: 0.1278\n",
      "Epoch 50/100\n",
      "46/46 [==============================] - 17s 373ms/step - loss: 0.0804 - accuracy: 0.1301\n",
      "Epoch 51/100\n",
      "46/46 [==============================] - 17s 373ms/step - loss: 0.0710 - accuracy: 0.1319\n",
      "Epoch 52/100\n",
      "46/46 [==============================] - 17s 373ms/step - loss: 0.0620 - accuracy: 0.1337\n",
      "Epoch 53/100\n",
      "46/46 [==============================] - 17s 373ms/step - loss: 0.0542 - accuracy: 0.1352\n",
      "Epoch 54/100\n",
      "46/46 [==============================] - 17s 374ms/step - loss: 0.0475 - accuracy: 0.1367\n",
      "Epoch 55/100\n",
      "46/46 [==============================] - 17s 373ms/step - loss: 0.0414 - accuracy: 0.1378\n",
      "Epoch 56/100\n",
      "46/46 [==============================] - 17s 373ms/step - loss: 0.0362 - accuracy: 0.1386\n",
      "Epoch 57/100\n",
      "46/46 [==============================] - 17s 373ms/step - loss: 0.0316 - accuracy: 0.1394\n",
      "Epoch 58/100\n",
      "46/46 [==============================] - 17s 372ms/step - loss: 0.0280 - accuracy: 0.1400\n",
      "Epoch 59/100\n",
      "46/46 [==============================] - 17s 372ms/step - loss: 0.0250 - accuracy: 0.1404\n",
      "Epoch 60/100\n",
      "46/46 [==============================] - 17s 373ms/step - loss: 0.0223 - accuracy: 0.1408\n",
      "Epoch 61/100\n",
      "46/46 [==============================] - 17s 373ms/step - loss: 0.0202 - accuracy: 0.1410\n",
      "Epoch 62/100\n",
      "46/46 [==============================] - 17s 373ms/step - loss: 0.0192 - accuracy: 0.1411\n",
      "Epoch 63/100\n",
      "46/46 [==============================] - 17s 374ms/step - loss: 0.0179 - accuracy: 0.1412\n",
      "Epoch 64/100\n",
      "46/46 [==============================] - 17s 373ms/step - loss: 0.0161 - accuracy: 0.1414\n",
      "Epoch 65/100\n",
      "46/46 [==============================] - 17s 373ms/step - loss: 0.0148 - accuracy: 0.1417\n",
      "Epoch 66/100\n",
      "46/46 [==============================] - 17s 373ms/step - loss: 0.0141 - accuracy: 0.1418\n",
      "Epoch 67/100\n",
      "46/46 [==============================] - 17s 373ms/step - loss: 0.0133 - accuracy: 0.1418\n",
      "Epoch 68/100\n",
      "46/46 [==============================] - 17s 373ms/step - loss: 0.0130 - accuracy: 0.1418\n",
      "Epoch 69/100\n",
      "46/46 [==============================] - 17s 373ms/step - loss: 0.0120 - accuracy: 0.1420\n",
      "Epoch 70/100\n",
      "46/46 [==============================] - 17s 373ms/step - loss: 0.0126 - accuracy: 0.1418\n",
      "Epoch 71/100\n",
      "46/46 [==============================] - 17s 374ms/step - loss: 0.0121 - accuracy: 0.1418\n",
      "Epoch 72/100\n",
      "46/46 [==============================] - 17s 373ms/step - loss: 0.0109 - accuracy: 0.1421\n",
      "Epoch 73/100\n",
      "46/46 [==============================] - 17s 373ms/step - loss: 0.0108 - accuracy: 0.1421\n",
      "Epoch 74/100\n",
      "46/46 [==============================] - 17s 373ms/step - loss: 0.0102 - accuracy: 0.1422\n",
      "Epoch 75/100\n",
      "46/46 [==============================] - 17s 373ms/step - loss: 0.0110 - accuracy: 0.1420\n",
      "Epoch 76/100\n",
      "46/46 [==============================] - 17s 373ms/step - loss: 0.0111 - accuracy: 0.1419\n",
      "Epoch 77/100\n",
      "46/46 [==============================] - 17s 373ms/step - loss: 0.0107 - accuracy: 0.1420\n",
      "Epoch 78/100\n",
      "46/46 [==============================] - 17s 373ms/step - loss: 0.0099 - accuracy: 0.1422\n",
      "Epoch 79/100\n",
      "46/46 [==============================] - 17s 373ms/step - loss: 0.0106 - accuracy: 0.1420\n",
      "Epoch 80/100\n"
     ]
    },
    {
     "name": "stdout",
     "output_type": "stream",
     "text": [
      "46/46 [==============================] - 17s 373ms/step - loss: 0.0098 - accuracy: 0.1422\n",
      "Epoch 81/100\n",
      "46/46 [==============================] - 17s 373ms/step - loss: 0.0098 - accuracy: 0.1422\n",
      "Epoch 82/100\n",
      "46/46 [==============================] - 17s 373ms/step - loss: 0.0096 - accuracy: 0.1422\n",
      "Epoch 83/100\n",
      "46/46 [==============================] - 17s 372ms/step - loss: 0.0098 - accuracy: 0.1422\n",
      "Epoch 84/100\n",
      "46/46 [==============================] - 17s 373ms/step - loss: 0.0093 - accuracy: 0.1423\n",
      "Epoch 85/100\n",
      "46/46 [==============================] - 17s 373ms/step - loss: 0.0097 - accuracy: 0.1422\n",
      "Epoch 86/100\n",
      "46/46 [==============================] - 17s 373ms/step - loss: 0.0098 - accuracy: 0.1421\n",
      "Epoch 87/100\n",
      "46/46 [==============================] - 17s 373ms/step - loss: 0.0100 - accuracy: 0.1420\n",
      "Epoch 88/100\n",
      "46/46 [==============================] - 17s 373ms/step - loss: 0.0091 - accuracy: 0.1423\n",
      "Epoch 89/100\n",
      "46/46 [==============================] - 17s 373ms/step - loss: 0.0088 - accuracy: 0.1423\n",
      "Epoch 90/100\n",
      "46/46 [==============================] - 17s 373ms/step - loss: 0.0088 - accuracy: 0.1423\n",
      "Epoch 91/100\n",
      "46/46 [==============================] - 17s 373ms/step - loss: 0.0079 - accuracy: 0.1426\n",
      "Epoch 92/100\n",
      "46/46 [==============================] - 17s 373ms/step - loss: 0.0076 - accuracy: 0.1427\n",
      "Epoch 93/100\n",
      "46/46 [==============================] - 17s 373ms/step - loss: 0.0079 - accuracy: 0.1426\n",
      "Epoch 94/100\n",
      "46/46 [==============================] - 17s 372ms/step - loss: 0.0072 - accuracy: 0.1428\n",
      "Epoch 95/100\n",
      "46/46 [==============================] - 17s 373ms/step - loss: 0.0074 - accuracy: 0.1427\n",
      "Epoch 96/100\n",
      "46/46 [==============================] - 17s 373ms/step - loss: 0.0071 - accuracy: 0.1428\n",
      "Epoch 97/100\n",
      "46/46 [==============================] - 17s 373ms/step - loss: 0.0068 - accuracy: 0.1430\n",
      "Epoch 98/100\n",
      "46/46 [==============================] - 17s 373ms/step - loss: 0.0066 - accuracy: 0.1429\n",
      "Epoch 99/100\n",
      "46/46 [==============================] - 17s 374ms/step - loss: 0.0068 - accuracy: 0.1429\n",
      "Epoch 100/100\n",
      "46/46 [==============================] - 17s 374ms/step - loss: 0.0063 - accuracy: 0.1430\n"
     ]
    },
    {
     "data": {
      "text/plain": [
       "<keras.callbacks.History at 0x7febc0203cd0>"
      ]
     },
     "execution_count": 351,
     "metadata": {},
     "output_type": "execute_result"
    }
   ],
   "source": [
    "EPOCHS = 100\n",
    "model.fit(dataset, epochs=EPOCHS, verbose=1)"
   ]
  },
  {
   "cell_type": "code",
   "execution_count": 352,
   "id": "1983ee19",
   "metadata": {},
   "outputs": [],
   "source": [
    "def decoder_inference(sentence):\n",
    "    sentence = preprocessing([sentence])\n",
    "    sentence = tokenizer.encode(sentence[0])\n",
    "    sentence = tf.expand_dims(START_TOKEN+sentence+END_TOKEN, axis=0)\n",
    "    output_sequence = tf.expand_dims(START_TOKEN, 0)\n",
    "    \n",
    "    for i in range(max_len):\n",
    "        predictions = model(inputs=[sentence, output_sequence], training=False)\n",
    "        predictions = predictions[:, -1:, :]\n",
    "\n",
    "        predicted_id = tf.cast(tf.argmax(predictions, axis=-1), tf.int32)\n",
    "        if tf.equal(predicted_id, END_TOKEN[0]):\n",
    "            break\n",
    "        output_sequence = tf.concat([output_sequence, predicted_id], axis=-1)\n",
    "\n",
    "    return tf.squeeze(output_sequence, axis=0)"
   ]
  },
  {
   "cell_type": "code",
   "execution_count": 353,
   "id": "24958ae5",
   "metadata": {},
   "outputs": [],
   "source": [
    "def sentence_generation(sentence):\n",
    "    prediction = decoder_inference(sentence)\n",
    "\n",
    "    predicted_sentence = tokenizer.decode([i for i in prediction if i < tokenizer.vocab_size])\n",
    "\n",
    "    print('입력 : {}'.format(sentence))\n",
    "    print('출력 : {}'.format(predicted_sentence))\n",
    "\n",
    "    return predicted_sentence"
   ]
  },
  {
   "cell_type": "code",
   "execution_count": 364,
   "id": "d76e1fc5",
   "metadata": {
    "scrolled": true
   },
   "outputs": [
    {
     "name": "stdout",
     "output_type": "stream",
     "text": [
      "입력 : 심심해요\n",
      "출력 : 저랑 놀아요 .\n",
      "저랑 놀아요 .\n"
     ]
    }
   ],
   "source": [
    "print(sentence_generation(\"심심해요\"))"
   ]
  },
  {
   "cell_type": "code",
   "execution_count": 355,
   "id": "b6e31d4f",
   "metadata": {},
   "outputs": [
    {
     "name": "stdout",
     "output_type": "stream",
     "text": [
      "입력 : 안녕하세요?\n",
      "출력 : 안녕하세요 .\n",
      "안녕하세요 .\n"
     ]
    }
   ],
   "source": [
    "print(sentence_generation(\"안녕하세요?\"))"
   ]
  },
  {
   "cell_type": "code",
   "execution_count": 358,
   "id": "f8b71245",
   "metadata": {},
   "outputs": [
    {
     "name": "stdout",
     "output_type": "stream",
     "text": [
      "입력 : 잘 지내?\n",
      "출력 : 당신은 잘 지내고 있나봅니다 .\n",
      "당신은 잘 지내고 있나봅니다 .\n"
     ]
    }
   ],
   "source": [
    "print(sentence_generation(\"잘 지내?\"))"
   ]
  },
  {
   "cell_type": "code",
   "execution_count": 357,
   "id": "52e01abf",
   "metadata": {},
   "outputs": [
    {
     "name": "stdout",
     "output_type": "stream",
     "text": [
      "입력 : 날씨 개좋음\n",
      "출력 : 모두를 위한 결심인지 확인해보세요 .\n",
      "모두를 위한 결심인지 확인해보세요 .\n"
     ]
    }
   ],
   "source": [
    "print(sentence_generation(\"날씨 개좋음\"))"
   ]
  },
  {
   "cell_type": "code",
   "execution_count": 359,
   "id": "ec00900a",
   "metadata": {},
   "outputs": [
    {
     "name": "stdout",
     "output_type": "stream",
     "text": [
      "입력 : 배고프다~~~~\n",
      "출력 : 저도 밥 먹고 싶어요\n",
      "저도 밥 먹고 싶어요\n"
     ]
    }
   ],
   "source": [
    "print(sentence_generation(\"배고프다~~~~\"))"
   ]
  },
  {
   "cell_type": "code",
   "execution_count": null,
   "id": "331cccf1",
   "metadata": {},
   "outputs": [],
   "source": []
  }
 ],
 "metadata": {
  "kernelspec": {
   "display_name": "Python 3 (ipykernel)",
   "language": "python",
   "name": "python3"
  },
  "language_info": {
   "codemirror_mode": {
    "name": "ipython",
    "version": 3
   },
   "file_extension": ".py",
   "mimetype": "text/x-python",
   "name": "python",
   "nbconvert_exporter": "python",
   "pygments_lexer": "ipython3",
   "version": "3.9.7"
  }
 },
 "nbformat": 4,
 "nbformat_minor": 5
}
